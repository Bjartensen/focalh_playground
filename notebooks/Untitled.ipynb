{
 "cells": [
  {
   "cell_type": "code",
   "execution_count": 6,
   "id": "425e33dc-f01c-4423-9b22-2a3678e83427",
   "metadata": {},
   "outputs": [
    {
     "data": {
      "text/plain": [
       "15"
      ]
     },
     "execution_count": 6,
     "metadata": {},
     "output_type": "execute_result"
    }
   ],
   "source": [
    "def fn(a,b,c,d,e):\n",
    "    return a+b+c+d+e\n",
    "\n",
    "fn(1,2,3,4,5)\n",
    "pars1 = {\"a\":1, \"b\":2}\n",
    "pars2 = {\"c\":3, \"d\":4, \"e\":5}\n",
    "fn(**pars1,**pars2)"
   ]
  },
  {
   "cell_type": "code",
   "execution_count": 12,
   "id": "ffe3ff33-8ddb-4647-9ca3-58cecd26106f",
   "metadata": {},
   "outputs": [
    {
     "ename": "KeyError",
     "evalue": "0",
     "output_type": "error",
     "traceback": [
      "\u001b[31m---------------------------------------------------------------------------\u001b[39m",
      "\u001b[31mKeyError\u001b[39m                                  Traceback (most recent call last)",
      "\u001b[36mCell\u001b[39m\u001b[36m \u001b[39m\u001b[32mIn[12]\u001b[39m\u001b[32m, line 5\u001b[39m\n\u001b[32m      2\u001b[39m     \u001b[38;5;28;01mreturn\u001b[39;00m c[\u001b[32m0\u001b[39m]+c[\u001b[32m1\u001b[39m]\n\u001b[32m      4\u001b[39m pars1 = {\u001b[33m\"\u001b[39m\u001b[33ma\u001b[39m\u001b[33m\"\u001b[39m:\u001b[32m1\u001b[39m, \u001b[33m\"\u001b[39m\u001b[33mb\u001b[39m\u001b[33m\"\u001b[39m:\u001b[32m2\u001b[39m}\n\u001b[32m----> \u001b[39m\u001b[32m5\u001b[39m \u001b[43mfn2\u001b[49m\u001b[43m(\u001b[49m\u001b[43m*\u001b[49m\u001b[43m*\u001b[49m\u001b[43mpars1\u001b[49m\u001b[43m)\u001b[49m\n",
      "\u001b[36mCell\u001b[39m\u001b[36m \u001b[39m\u001b[32mIn[12]\u001b[39m\u001b[32m, line 2\u001b[39m, in \u001b[36mfn2\u001b[39m\u001b[34m(**c)\u001b[39m\n\u001b[32m      1\u001b[39m \u001b[38;5;28;01mdef\u001b[39;00m\u001b[38;5;250m \u001b[39m\u001b[34mfn2\u001b[39m(**c):\n\u001b[32m----> \u001b[39m\u001b[32m2\u001b[39m     \u001b[38;5;28;01mreturn\u001b[39;00m \u001b[43mc\u001b[49m\u001b[43m[\u001b[49m\u001b[32;43m0\u001b[39;49m\u001b[43m]\u001b[49m+c[\u001b[32m1\u001b[39m]\n",
      "\u001b[31mKeyError\u001b[39m: 0"
     ]
    }
   ],
   "source": [
    "def fn2(**c):\n",
    "    return c[0]+c[1]\n",
    "\n",
    "pars1 = {\"a\":1, \"b\":2}\n",
    "fn2(**pars1)"
   ]
  },
  {
   "cell_type": "code",
   "execution_count": 40,
   "id": "be4f5405-155a-4709-bdb1-a08da72c09a7",
   "metadata": {},
   "outputs": [
    {
     "data": {
      "text/plain": [
       "({'name': 'multiply', 'parameters': {'adsf': 2, 'blabla': 5}},\n",
       " {'kek': 10, 'blabla': 20})"
      ]
     },
     "execution_count": 40,
     "metadata": {},
     "output_type": "execute_result"
    }
   ],
   "source": [
    "d = {\"trans::type\": \"multiply\", \"trans::adsf\": 2, \"trans::blabla\":5, \"method::kek\":10, \"method::blabla\":20}\n",
    "\n",
    "#trans = []\n",
    "trans_d = dict()\n",
    "\n",
    "for key,value in d.items():\n",
    "    if key.startswith(\"trans::\"):\n",
    "        trans.append(key.split(\"trans::\")[1])\n",
    "\n",
    "def split_trans_method(d):\n",
    "    tnamespace = \"trans::\"\n",
    "    mnamespace = \"method::\"\n",
    "    tdict = dict()\n",
    "    tdict_pars = dict()\n",
    "    mdict = dict()\n",
    "\n",
    "    # transform\n",
    "    for key,value in d.items():\n",
    "        if key.startswith(tnamespace):\n",
    "            spl = key.split(tnamespace)[1]\n",
    "            if spl == \"type\":\n",
    "                tdict[\"name\"] = value\n",
    "            else:\n",
    "                tdict_pars[spl] = value\n",
    "\n",
    "    tdict[\"parameters\"] = tdict_pars\n",
    "    \n",
    "    # method\n",
    "    for key,value in d.items():\n",
    "        if key.startswith(mnamespace):\n",
    "            spl = key.split(mnamespace)[1]\n",
    "            mdict[spl] = value\n",
    "\n",
    "    return tdict,mdict\n",
    "\n",
    "            \n",
    "split_trans_method(d)"
   ]
  },
  {
   "cell_type": "code",
   "execution_count": 28,
   "id": "ea434cac-5b35-489c-b9cc-bcdc5663fe75",
   "metadata": {},
   "outputs": [
    {
     "name": "stdout",
     "output_type": "stream",
     "text": [
      "trans::adsf\n",
      "trans::blabla\n",
      "method::kek\n",
      "method::blabla\n"
     ]
    }
   ],
   "source": [
    "for key,value in d.items():\n",
    "    print(key)"
   ]
  }
 ],
 "metadata": {
  "kernelspec": {
   "display_name": "Python 3 (ipykernel)",
   "language": "python",
   "name": "python3"
  },
  "language_info": {
   "codemirror_mode": {
    "name": "ipython",
    "version": 3
   },
   "file_extension": ".py",
   "mimetype": "text/x-python",
   "name": "python",
   "nbconvert_exporter": "python",
   "pygments_lexer": "ipython3",
   "version": "3.11.13"
  }
 },
 "nbformat": 4,
 "nbformat_minor": 5
}
