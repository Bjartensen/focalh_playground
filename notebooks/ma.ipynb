{
 "cells": [
  {
   "cell_type": "code",
   "execution_count": 1,
   "id": "f6d5d566-818c-47b6-adf3-7f444c98a9e0",
   "metadata": {},
   "outputs": [
    {
     "name": "stderr",
     "output_type": "stream",
     "text": [
      "/home/bjartur/miniconda3/envs/focalh/lib/python3.11/site-packages/tqdm/auto.py:21: TqdmWarning: IProgress not found. Please update jupyter and ipywidgets. See https://ipywidgets.readthedocs.io/en/stable/user_install.html\n",
      "  from .autonotebook import tqdm as notebook_tqdm\n"
     ]
    }
   ],
   "source": [
    "import numpy as np\n",
    "import numpy.ma as ma\n",
    "import matplotlib.pyplot as plt\n",
    "import ROOT\n",
    "import focal\n",
    "import optuna\n",
    "#import logging\n",
    "#import plotly\n",
    "#from plotly.io import show\n",
    "import sys\n",
    "import torch"
   ]
  },
  {
   "cell_type": "markdown",
   "id": "5b390f25-3216-4603-acec-f4d261ee6387",
   "metadata": {},
   "source": [
    "# Notebook to map events to the format of the adjacency matrix"
   ]
  },
  {
   "cell_type": "markdown",
   "id": "1f5b7b14-659e-448c-bb47-0237a8418537",
   "metadata": {},
   "source": [
    "And maybe implement parts of Modified Aggregation"
   ]
  },
  {
   "cell_type": "code",
   "execution_count": 2,
   "id": "3183b8d8-c126-4ddf-9b05-fdc92d7b3d46",
   "metadata": {},
   "outputs": [],
   "source": [
    "adj = np.load(\"p2_adj.npy\")\n",
    "idx = np.load(\"p2_cell_idx.npy\")"
   ]
  },
  {
   "cell_type": "markdown",
   "id": "b24f1680-810f-425f-b5fa-effec73b0357",
   "metadata": {},
   "source": [
    "Think about modified aggregation\n",
    "\n",
    "Have adjacency matrix, have cell indices\n",
    "\n",
    "From new event in ttree, sort values to match adjacency\n",
    "\n",
    "Maybe a bespoke heatmap plot for the prototype 2 adjacency matrix for easy test, otherwise just fill in the labels"
   ]
  },
  {
   "cell_type": "markdown",
   "id": "4ba15d63-ca95-41fb-b3cf-5c1e5c40a8bc",
   "metadata": {},
   "source": [
    "Use search(). Loop over ttree coordinates and map indices, EZPZ. Maybe precompute events and store in zipped numpy array.\n",
    "\n",
    "Try looping and mapping over 1000 events, see how slow it is."
   ]
  },
  {
   "cell_type": "code",
   "execution_count": 34,
   "id": "3aa42df1-48d9-44f7-a0e2-ba4dfe11bd16",
   "metadata": {},
   "outputs": [],
   "source": [
    "file = ROOT.TFile(\"/home/bjartur/workspace/focalh_data_transformer/data/converted/E300_P5_N1000.root\", \"READ\")\n",
    "tree = file.Get(\"EventsTree\")\n"
   ]
  },
  {
   "cell_type": "markdown",
   "id": "962886da-e932-46b0-abb3-d0e107a6d021",
   "metadata": {},
   "source": [
    "Create some structure that maps an array of mapped indices to the filename and tree event, so you are always sure."
   ]
  },
  {
   "cell_type": "code",
   "execution_count": 3,
   "id": "ff04989c-6bc8-49ca-b563-3284220527b8",
   "metadata": {},
   "outputs": [],
   "source": [
    "def p2_adj_map(filename):\n",
    "    \"\"\"\n",
    "    Function to basically check and record the mapping for a file.\n",
    "    I think all simulation files will always be the same, but this\n",
    "    checks that all events have the same mapping and returns the mapping\n",
    "    and file name.\n",
    "    \"\"\"\n",
    "    file = ROOT.TFile(filename, \"READ\")\n",
    "    tree = file.Get(\"EventsTree\")\n",
    "    Nevents = tree.GetEntries()\n",
    "    tree.GetEntry(0)\n",
    "    npval = np.array(tree.value, dtype=np.float32)\n",
    "\n",
    "    f = focal.FocalH()\n",
    "    Ncells = len(npval)\n",
    "    iadj = np.zeros(Ncells*Nevents, dtype=np.int32).reshape(Nevents,Ncells)\n",
    "    for k in range(Nevents):\n",
    "        tree.GetEntry(k)\n",
    "        npx = np.array(tree.x, dtype=np.float32)\n",
    "        npy = np.array(tree.y, dtype=np.float32)\n",
    "        npval = np.array(tree.value, dtype=np.float32)\n",
    "        for i in range(len(npval)):\n",
    "            iadj[k,i] = f.search(npx[i],npy[i])\n",
    "        #print(npval[0])\n",
    "\n",
    "    if (iadj == iadj[0]).all():\n",
    "        return iadj[0], filename\n",
    "\n",
    "    print(\"All events don't have the same order of cells!\")\n",
    "    return np.ones(Ncells)*-1, filename\n",
    "\n",
    "iadj = p2_adj_map(\"/home/bjartur/workspace/python_focalh_clustering/data/E150_P3_N1000.root\")"
   ]
  },
  {
   "cell_type": "code",
   "execution_count": 94,
   "id": "885c092f-46f4-47f6-80ad-72419e1022d4",
   "metadata": {},
   "outputs": [],
   "source": [
    "np.save(\"p2_sim_adj_map\", iadj[0])"
   ]
  },
  {
   "cell_type": "code",
   "execution_count": 99,
   "id": "4910ac19-e296-4c87-8764-1d8d52c4f948",
   "metadata": {},
   "outputs": [],
   "source": [
    "iadj = np.load(\"p2_sim_adj_map.npy\")"
   ]
  },
  {
   "cell_type": "code",
   "execution_count": 4,
   "id": "48b7f71c-faab-4edc-967a-dc5f232e102e",
   "metadata": {},
   "outputs": [
    {
     "data": {
      "text/plain": [
       "(array([194, 189, 184, 179, 174, 195, 190, 185, 180, 175, 196, 191, 186,\n",
       "        181, 176, 197, 192, 187, 182, 177, 198, 193, 188, 183, 178,  95,\n",
       "         90,  85,  80,  75,  96,  91,  86,  81,  76,  97,  92,  87,  82,\n",
       "         77,  98,  93,  88,  83,  78,  99,  94,  89,  84,  79,  20,  15,\n",
       "         10,   5,   0,  21,  16,  11,   6,   1,  22,  17,  12,   7,   2,\n",
       "         23,  18,  13,   8,   3,  24,  19,  14,   9,   4, 219, 214, 209,\n",
       "        204, 199, 220, 215, 210, 205, 200, 221, 216, 211, 206, 201, 222,\n",
       "        217, 212, 207, 202, 223, 218, 213, 208, 203, 142, 135, 128, 121,\n",
       "        114, 107, 100, 143, 136, 129, 122, 115, 108, 101, 144, 137, 130,\n",
       "        123, 116, 109, 102, 145, 138, 131, 124, 117, 110, 103, 146, 139,\n",
       "        132, 125, 118, 111, 104, 147, 140, 133, 126, 119, 112, 105, 148,\n",
       "        141, 134, 127, 120, 113, 106,  45,  40,  35,  30,  25,  46,  41,\n",
       "         36,  31,  26,  47,  42,  37,  32,  27,  48,  43,  38,  33,  28,\n",
       "         49,  44,  39,  34,  29, 244, 239, 234, 229, 224, 245, 240, 235,\n",
       "        230, 225, 246, 241, 236, 231, 226, 247, 242, 237, 232, 227, 248,\n",
       "        243, 238, 233, 228, 169, 164, 159, 154, 149, 170, 165, 160, 155,\n",
       "        150, 171, 166, 161, 156, 151, 172, 167, 162, 157, 152, 173, 168,\n",
       "        163, 158, 153,  70,  65,  60,  55,  50,  71,  66,  61,  56,  51,\n",
       "         72,  67,  62,  57,  52,  73,  68,  63,  58,  53,  74,  69,  64,\n",
       "         59,  54], dtype=int32),\n",
       " '/home/bjartur/workspace/python_focalh_clustering/data/E150_P3_N1000.root')"
      ]
     },
     "execution_count": 4,
     "metadata": {},
     "output_type": "execute_result"
    }
   ],
   "source": [
    "iadj"
   ]
  },
  {
   "cell_type": "markdown",
   "id": "1e01e3f5-8bfd-4c48-bff2-81db5cd3e54a",
   "metadata": {},
   "source": [
    "From a ttree I can now translate the indices to the p2 indices.\n",
    "\n",
    "That means I can conceivably implement the modified aggregation in python.\n",
    "\n",
    "I should make a toy example first and implement it there.\n",
    "\n",
    "I should have a way of visualizing if the mapping and later clustering works.\n",
    "\n",
    "First just make a toy example and implement the MA."
   ]
  },
  {
   "cell_type": "markdown",
   "id": "afc1d330-3189-429a-9f53-15111efb6d94",
   "metadata": {},
   "source": [
    "# Toy example"
   ]
  },
  {
   "cell_type": "code",
   "execution_count": 5,
   "id": "b3972d1f-7070-4ea9-97d6-6d2e6e40d1b0",
   "metadata": {},
   "outputs": [
    {
     "data": {
      "text/plain": [
       "array([[1, 1, 0, 1, 1, 0, 0, 0, 0],\n",
       "       [1, 1, 1, 1, 1, 1, 0, 0, 0],\n",
       "       [0, 1, 1, 0, 1, 1, 0, 0, 0],\n",
       "       [1, 1, 0, 1, 1, 0, 1, 1, 0],\n",
       "       [1, 1, 1, 1, 1, 1, 1, 1, 1],\n",
       "       [0, 1, 1, 0, 1, 1, 0, 1, 1],\n",
       "       [0, 0, 0, 1, 1, 0, 1, 1, 0],\n",
       "       [0, 0, 0, 1, 1, 1, 1, 1, 1],\n",
       "       [0, 0, 0, 0, 1, 1, 0, 1, 1]])"
      ]
     },
     "execution_count": 5,
     "metadata": {},
     "output_type": "execute_result"
    }
   ],
   "source": [
    "toy_cells = np.array([0,1,2,3,4,5,6,7,8])\n",
    "toy_cells2 = np.array([0,1,2,3,4,5,6,7,8,9,10,11])\n",
    "\n",
    "\n",
    "toy_ex = np.array([\n",
    "[0,1,2],\n",
    "[3,4,5],\n",
    "[6,7,8]\n",
    "])\n",
    "\n",
    "toy_vals = np.array([\n",
    "[5,1,1],\n",
    "[1,1,1],\n",
    "[1,1,1]\n",
    "])\n",
    "\n",
    "toy_vals2 = np.array([\n",
    "[5,4,3],\n",
    "[4,4,3],\n",
    "[3,3,3],\n",
    "[2,2,6]\n",
    "])\n",
    "\n",
    "\n",
    "\n",
    "toy_adj = np.array([\n",
    "#0  1  2  3  4  5  6  7  8\n",
    "[1, 1, 0, 1, 1, 0, 0, 0, 0],\n",
    "[1, 1, 1, 1, 1, 1, 0, 0, 0],\n",
    "[0, 1, 1, 0, 1, 1, 0, 0, 0],\n",
    "[1, 1, 0, 1, 1, 0, 1, 1, 0],\n",
    "[1, 1, 1, 1, 1, 1, 1, 1, 1],\n",
    "[0, 1, 1, 0, 1, 1, 0, 1, 1],\n",
    "[0, 0, 0, 1, 1, 0, 1, 1, 0],\n",
    "[0, 0, 0, 1, 1, 1, 1, 1, 1],\n",
    "[0, 0, 0, 0, 1, 1, 0, 1, 1],\n",
    "])\n",
    "\n",
    "toy_adj2 = np.array([\n",
    "#0  1  2  3  4  5  6  7  8  9  10 11\n",
    "[1, 1, 0, 1, 1, 0, 0, 0, 0, 0, 0, 0],\n",
    "[1, 1, 1, 1, 1, 1, 0, 0, 0, 0, 0, 0],\n",
    "[0, 1, 1, 0, 1, 1, 0, 0, 0, 0, 0, 0],\n",
    "[1, 1, 0, 1, 1, 0, 1, 1, 0, 0, 0, 0],\n",
    "[1, 1, 1, 1, 1, 1, 1, 1, 1, 0, 0, 0],\n",
    "[0, 1, 1, 0, 1, 1, 0, 1, 1, 0, 0, 0],\n",
    "[0, 0, 0, 1, 1, 0, 1, 1, 0, 1, 1, 0],\n",
    "[0, 0, 0, 1, 1, 1, 1, 1, 1, 1, 1, 1],\n",
    "[0, 0, 0, 0, 1, 1, 0, 1, 1, 0, 1, 1],\n",
    "\n",
    "[0, 0, 0, 0, 0, 0, 1, 1, 0, 1, 1, 0],\n",
    "[0, 0, 0, 0, 0, 0, 1, 1, 1, 1, 1, 1],\n",
    "[0, 0, 0, 0, 0, 0, 0, 1, 1, 0, 1, 1],\n",
    "])\n",
    "\n",
    "\n",
    "toy_adj"
   ]
  },
  {
   "cell_type": "code",
   "execution_count": 6,
   "id": "54b9e32e-abd1-4ec9-82a0-8783b029954a",
   "metadata": {},
   "outputs": [
    {
     "data": {
      "text/plain": [
       "np.True_"
      ]
     },
     "execution_count": 6,
     "metadata": {},
     "output_type": "execute_result"
    }
   ],
   "source": [
    "(toy_adj2 == toy_adj2.T).all()"
   ]
  },
  {
   "cell_type": "code",
   "execution_count": 7,
   "id": "5b04f844-8693-406f-9b2e-4ab268273eb0",
   "metadata": {},
   "outputs": [
    {
     "data": {
      "text/plain": [
       "array([5, 1, 1, 1, 1, 1, 1, 1, 1])"
      ]
     },
     "execution_count": 7,
     "metadata": {},
     "output_type": "execute_result"
    }
   ],
   "source": [
    "toy_vals.flatten()"
   ]
  },
  {
   "cell_type": "code",
   "execution_count": 5,
   "id": "f1e185a8-8f9b-4816-8c3c-471a21fcfd08",
   "metadata": {},
   "outputs": [],
   "source": [
    "def ModifiedAggregation(A, v, seed=4, agg=0):\n",
    "    \"\"\"\n",
    "    Modified Aggregation from an adjacency matrix and a list of values\n",
    "    corresponding to the same ordering as the adjacency matrix.\n",
    "    \"\"\"\n",
    "\n",
    "    if seed <= agg:\n",
    "        print(\"Seed threshold can't be smaller than aggregation threshold\")\n",
    "        return\n",
    "    \n",
    "    labels = np.zeros_like(v, dtype=np.int32)\n",
    "    count = 0\n",
    "    tag_it = 1\n",
    "    while(count < 1E6):\n",
    "        seed_mask = v < seed\n",
    "        limit_mask = labels != 0\n",
    "        masked_data = ma.masked_array(v, mask = seed_mask | limit_mask)\n",
    "        #print(\"Possible seeds\", masked_data)\n",
    "        \n",
    "        if np.all(masked_data.mask):  # Check if all elements are masked\n",
    "            break\n",
    "        max_index = masked_data.argmax()\n",
    "        seed_mask[max_index] = True\n",
    "        spread(A,v,max_index,labels,tag_it,agg)\n",
    "        tag_it += 1\n",
    "        count += 1\n",
    "\n",
    "    return labels\n",
    "\n",
    "def spread(A,v,seed,labels,tag,agg):\n",
    "    \"\"\"\n",
    "    Spread\n",
    "    \"\"\"\n",
    "    spread_mask = A[seed] == 1\n",
    "    spread_mask = np.zeros_like(labels).astype(bool)\n",
    "    spread_mask[seed] = True\n",
    "    \n",
    "    # later make into while\n",
    "    labels_temp = np.ones_like(labels)*-1\n",
    "    count = 0\n",
    "    while(count < 1E6):\n",
    "        count += 1\n",
    "        limit_mask = labels == 0\n",
    "\n",
    "        if (labels_temp==labels).all():\n",
    "            break        \n",
    "        labels_temp = labels.copy()\n",
    "        \n",
    "        spread_to_idx = np.where(spread_mask)[0]\n",
    "        for icell in spread_to_idx:\n",
    "            propagate(A,v,icell,spread_mask,labels,tag,agg)\n",
    "\n",
    "\n",
    "def propagate(A,v,cell,spread_mask,labels,tag,agg):\n",
    "    \"\"\"\n",
    "    Spread to neighbors and check value and agg threshold.\n",
    "    Check A for neighbors, make a mask for already tagged.\n",
    "    \"\"\"\n",
    "\n",
    "#    print(\"Propagating...\")\n",
    "    limit_mask = labels == 0\n",
    "    value_mask = v <= v[cell]\n",
    "    agg_mask = v > agg\n",
    "    mask = A[cell]\n",
    "#    print(mask)\n",
    "#    print(limit_mask)\n",
    "#    print(value_mask)\n",
    "#    print(agg_mask)\n",
    "#    final_mask = np.bitwise_and(mask, limit_mask & value_mask & agg_mask).astype(bool)\n",
    "    final_mask = np.bitwise_and(mask.astype(bool), limit_mask & value_mask & agg_mask).astype(bool)\n",
    "\n",
    "    # Tag\n",
    "    labels[final_mask] = tag\n",
    "\n",
    "    # Update spreading cells\n",
    "    # This might not be efficient.\n",
    "    spread_mask[final_mask] = True\n",
    "\n"
   ]
  },
  {
   "cell_type": "code",
   "execution_count": 9,
   "id": "d620dd41-9918-4c62-ab86-9ed0fa0e9fe1",
   "metadata": {},
   "outputs": [
    {
     "data": {
      "text/plain": [
       "Text(0.5, 1.0, 'Clusters')"
      ]
     },
     "execution_count": 9,
     "metadata": {},
     "output_type": "execute_result"
    },
    {
     "data": {
      "image/png": "[encoded data removed]",
      "text/plain": [
       "<Figure size 800x600 with 2 Axes>"
      ]
     },
     "metadata": {},
     "output_type": "display_data"
    }
   ],
   "source": [
    "clusters = ModifiedAggregation(toy_adj2, toy_vals2.flatten(), seed=3, agg=2)\n",
    "fig, ax = plt.subplots(nrows=1, ncols=2, figsize=(8,6))\n",
    "ax[0].imshow(toy_vals2)\n",
    "ax[0].set_title(\"Data\")\n",
    "ax[1].imshow(clusters.reshape(4,3))\n",
    "ax[1].set_title(\"Clusters\")"
   ]
  },
  {
   "cell_type": "markdown",
   "id": "9ed77df5-45ed-4ccd-81fc-c1896dede89c",
   "metadata": {},
   "source": [
    "# Test with real data"
   ]
  },
  {
   "cell_type": "code",
   "execution_count": 633,
   "id": "5237fc31-1e44-4f0e-885a-3a2194759bf1",
   "metadata": {},
   "outputs": [],
   "source": [
    "adj = np.load(\"p2_adj.npy\")\n",
    "idx = np.load(\"p2_cell_idx.npy\")\n",
    "iadj = np.load(\"p2_sim_adj_map.npy\")\n",
    "file = ROOT.TFile(\"/home/bjartur/workspace/focalh_data_transformer/data/converted/E150_P1_N1000.root\", \"READ\")\n",
    "tree = file.Get(\"EventsTree\")"
   ]
  },
  {
   "cell_type": "code",
   "execution_count": 634,
   "id": "2243bb8f-2aac-4658-9e64-07d9c4b66077",
   "metadata": {},
   "outputs": [],
   "source": [
    "tree.GetEntry(250)\n",
    "vals = np.array(tree.value, dtype=np.float32).clip(max=4096)\n",
    "x = np.array(tree.x, dtype=np.float32)\n",
    "y = np.array(tree.y, dtype=np.float32)"
   ]
  },
  {
   "cell_type": "code",
   "execution_count": 635,
   "id": "b7602d9f-f9e8-4455-8335-e34806298336",
   "metadata": {},
   "outputs": [],
   "source": [
    "for i in range(1000):\n",
    "    clusters = ModifiedAggregation(adj, vals[iadj], seed=800, agg=0)"
   ]
  },
  {
   "cell_type": "code",
   "execution_count": 636,
   "id": "9f393ffd-94f6-492e-b7db-464b4f1458b4",
   "metadata": {},
   "outputs": [
    {
     "data": {
      "text/plain": [
       "<matplotlib.collections.PathCollection at 0x7599845a74a0>"
      ]
     },
     "execution_count": 636,
     "metadata": {},
     "output_type": "execute_result"
    },
    {
     "data": {
      "image/png": "[encoded data removed]",
      "text/plain": [
       "<Figure size 640x480 with 1 Axes>"
      ]
     },
     "metadata": {},
     "output_type": "display_data"
    }
   ],
   "source": [
    "plt.scatter(x,y,s=vals/10)"
   ]
  },
  {
   "cell_type": "code",
   "execution_count": 637,
   "id": "8a3bca34-05cb-4df8-bf6a-6a17c73d1a8b",
   "metadata": {},
   "outputs": [
    {
     "data": {
      "text/plain": [
       "<matplotlib.legend.Legend at 0x7599843d16a0>"
      ]
     },
     "execution_count": 637,
     "metadata": {},
     "output_type": "execute_result"
    },
    {
     "data": {
      "image/png": "[encoded data removed]",
      "text/plain": [
       "<Figure size 640x480 with 1 Axes>"
      ]
     },
     "metadata": {},
     "output_type": "display_data"
    }
   ],
   "source": [
    "for c in set(clusters):\n",
    "    if c == 0:\n",
    "        continue\n",
    "    cl = clusters == c\n",
    "    plt.scatter(x[iadj][cl],y[iadj][cl],label=\"Cluster \"+str(c), s=vals[iadj][cl]/50)\n",
    "\n",
    "plt.legend()"
   ]
  },
  {
   "cell_type": "markdown",
   "id": "6c1c40fa-99e4-4bba-bc2c-e8570f8fd6e7",
   "metadata": {},
   "source": [
    "# Bigger test"
   ]
  },
  {
   "cell_type": "markdown",
   "id": "5a681361-9e65-45a3-ac63-919cbd11c042",
   "metadata": {},
   "source": [
    "Maybe with Optuna"
   ]
  },
  {
   "cell_type": "code",
   "execution_count": 3,
   "id": "6f275558-2610-465e-9618-2a6517b27a70",
   "metadata": {},
   "outputs": [],
   "source": [
    "adj = np.load(\"p2_adj.npy\")\n",
    "idx = np.load(\"p2_cell_idx.npy\")\n",
    "iadj = np.load(\"p2_sim_adj_map.npy\")\n",
    "file = ROOT.TFile(\"/home/bjartur/workspace/focalh_data_transformer/data/converted/E60_P3_N1000.root\", \"READ\")\n",
    "tree = file.Get(\"EventsTree\")\n",
    "Nentries = tree.GetEntries()"
   ]
  },
  {
   "cell_type": "code",
   "execution_count": 65,
   "id": "c7001000-3b1b-4bea-b58f-a1924d24f498",
   "metadata": {},
   "outputs": [
    {
     "name": "stdout",
     "output_type": "stream",
     "text": [
      "21372.00048816207\n",
      "22115.00048816207\n",
      "22532.0\n",
      "22532.0\n"
     ]
    }
   ],
   "source": [
    "tree.GetEntry(0)\n",
    "npval = np.array(tree.value).clip(max=4096)\n",
    "nppart = len(set(tree.labels))\n",
    "npfrac = np.array(tree.fractions)\n",
    "nplab = np.array(tree.labels, dtype=np.int32)\n",
    "\n",
    "s = 0\n",
    "for p in range(1,nppart+1):\n",
    "    mask = nplab == p\n",
    "    s += (npfrac[mask] * npval).sum()\n",
    "    print(s)\n",
    "\n",
    "\n",
    "print(npval.sum())"
   ]
  },
  {
   "cell_type": "code",
   "execution_count": 3,
   "id": "58dbdad2-6656-44ca-a09b-dc76e61dbc14",
   "metadata": {},
   "outputs": [],
   "source": [
    "\"\"\"\n",
    "FOCAL2_CELLS = 249\n",
    "FOCAL2_SAT = 4096\n",
    "npx = np.zeros(Nentries*FOCAL2, dtype=np.float32).reshape(Nentries, FOCAL2_CELLS)\n",
    "npy = np.zeros(Nentries*FOCAL2, dtype=np.float32).reshape(Nentries, FOCAL2_CELLS)\n",
    "npval = np.zeros(Nentries*FOCAL2, dtype=np.float32).reshape(Nentries, FOCAL2_CELLS)\n",
    "nppart = np.zeros(Nentries, dtype=np.int32)\n",
    "for i in range(Nentries):\n",
    "    tree.GetEntry(i)\n",
    "    npx[i] = np.array(tree.x)\n",
    "    npy[i] = np.array(tree.y)\n",
    "    npval[i] = np.array(tree.value).clip(max=FOCAL2_SAT)\n",
    "    nppart[i] = len(set(tree.labels))\n",
    "\n",
    "\n",
    "clusters = np.zeros(Nentries*FOCAL2, dtype=np.int32).reshape(Nentries, FOCAL2_CELLS)\n",
    "clusternum = np.zeros(Nentries, dtype=np.int32)\n",
    "for i in range(Nentries):\n",
    "    clusters[i] = ModifiedAggregation(adj, npval[i][iadj], seed=800, agg=0)\n",
    "    mask = clusters[i] != 0\n",
    "    clusternum[i] = len(set(clusters[i][mask]))\n",
    "\"\"\"\n",
    "\n",
    "def data(filename):\n",
    "    tfile = ROOT.TFile(filename, \"READ\")\n",
    "    ttree = tfile.Get(\"EventsTree\")\n",
    "    Nentries = ttree.GetEntries()\n",
    "\n",
    "    FOCAL2_CELLS = 249\n",
    "    FOCAL2_SAT = 4096\n",
    "    npx = np.zeros(Nentries*FOCAL2_CELLS, dtype=np.float32).reshape(Nentries, FOCAL2_CELLS)\n",
    "    npy = np.zeros(Nentries*FOCAL2_CELLS, dtype=np.float32).reshape(Nentries, FOCAL2_CELLS)\n",
    "    npval = np.zeros(Nentries*FOCAL2_CELLS, dtype=np.float32).reshape(Nentries, FOCAL2_CELLS)\n",
    "    nppart = np.zeros(Nentries, dtype=np.int32)\n",
    "    for i in range(Nentries):\n",
    "        ttree.GetEntry(i)\n",
    "        npx[i] = np.array(ttree.x)\n",
    "        npy[i] = np.array(ttree.y)\n",
    "        npval[i] = np.array(ttree.value).clip(max=FOCAL2_SAT)\n",
    "        nppart[i] = len(set(ttree.labels))\n",
    "    tfile.Close()\n",
    "    return npx, npy, npval, nppart\n",
    "\n",
    "def MA_clustering(seed,agg,x,y,val,particles):\n",
    "\n",
    "    adj = np.load(\"p2_adj.npy\")\n",
    "    idx = np.load(\"p2_cell_idx.npy\")\n",
    "    iadj = np.load(\"p2_sim_adj_map.npy\")\n",
    "\n",
    "    Nentries = len(x)\n",
    "    FOCAL2_CELLS = 249\n",
    "    clusters = np.zeros(Nentries*FOCAL2_CELLS, dtype=np.int32).reshape(Nentries, FOCAL2_CELLS)\n",
    "    clusternum = np.zeros(Nentries, dtype=np.int32)\n",
    "    for i in range(Nentries):\n",
    "        clusters[i] = ModifiedAggregation(adj, val[i][iadj], seed=seed, agg=agg)\n",
    "        mask = clusters[i] != 0\n",
    "        clusternum[i] = len(set(clusters[i][mask]))\n",
    "    eff = clusternum / particles\n",
    "    return eff, clusters\n",
    "\n",
    "#eff = clusternum / nppart\n",
    "#print(eff.mean(), eff.std())"
   ]
  },
  {
   "cell_type": "code",
   "execution_count": 75,
   "id": "5b7db07b-e3ea-4b83-abd6-68b458b325dd",
   "metadata": {},
   "outputs": [],
   "source": [
    "_,_,_, lab, _ = data(\"/home/bjartur/workspace/focalh_data_transformer/data/converted/E60_P3_N1000.root\")"
   ]
  },
  {
   "cell_type": "code",
   "execution_count": 70,
   "id": "668f51ee-6241-488a-8a52-f0dc0ab86cb8",
   "metadata": {},
   "outputs": [
    {
     "data": {
      "text/plain": [
       "array([[0, 0, 0, ..., 0, 0, 0],\n",
       "       [0, 0, 0, ..., 0, 0, 0],\n",
       "       [0, 0, 0, ..., 0, 0, 0],\n",
       "       ...,\n",
       "       [0, 0, 0, ..., 0, 0, 0],\n",
       "       [0, 0, 0, ..., 0, 0, 0],\n",
       "       [0, 0, 0, ..., 0, 0, 0]], dtype=int32)"
      ]
     },
     "execution_count": 70,
     "metadata": {},
     "output_type": "execute_result"
    }
   ],
   "source": [
    "lab"
   ]
  },
  {
   "cell_type": "code",
   "execution_count": 101,
   "id": "99102b9e-bafc-492c-aa61-1abfb6d3a79c",
   "metadata": {},
   "outputs": [
    {
     "name": "stdout",
     "output_type": "stream",
     "text": [
      "1.0643333333333334\n"
     ]
    }
   ],
   "source": [
    "x,y,val,p = data(\"/home/bjartur/workspace/focalh_data_transformer/data/converted/E60_P3_N1000.root\")\n",
    "{'seed': 807.7425621277989, 'agg': 728.8106252968716}\n",
    "eff,cl = MA_clustering(807.7425621277989,728.8106252968716,x,y,val,p)\n",
    "print(eff.mean())"
   ]
  },
  {
   "cell_type": "code",
   "execution_count": 95,
   "id": "25545f22-ab5d-4f48-8eef-a97bf4cae3da",
   "metadata": {},
   "outputs": [
    {
     "name": "stdout",
     "output_type": "stream",
     "text": [
      "-0.6183333333333334\n"
     ]
    }
   ],
   "source": [
    "print(eff.mean()-1)"
   ]
  },
  {
   "cell_type": "code",
   "execution_count": 89,
   "id": "b4030f93-1bb6-471d-9766-78b6ead0a4c7",
   "metadata": {},
   "outputs": [
    {
     "data": {
      "text/plain": [
       "array([0, 0, 1, 1, 1, 0, 1, 0, 1, 1, 0, 0, 0, 0, 1, 0, 0, 0, 0, 1, 0, 0,\n",
       "       0, 0, 0, 1, 1, 0, 1, 1, 1, 1, 1, 1, 0, 1, 1, 1, 1, 1, 1, 1, 1, 1,\n",
       "       1, 1, 1, 1, 1, 1, 1, 0, 1, 1, 0, 1, 1, 0, 1, 1, 1, 1, 1, 1, 1, 1,\n",
       "       1, 1, 1, 1, 1, 1, 1, 1, 1, 0, 0, 0, 1, 1, 0, 0, 0, 1, 1, 0, 0, 0,\n",
       "       1, 0, 0, 0, 0, 0, 0, 0, 0, 0, 0, 0, 1, 1, 1, 1, 1, 1, 1, 0, 1, 1,\n",
       "       1, 1, 1, 1, 0, 1, 1, 1, 1, 1, 1, 1, 1, 1, 1, 1, 1, 1, 0, 0, 0, 0,\n",
       "       1, 1, 1, 0, 0, 0, 0, 1, 1, 1, 0, 0, 0, 0, 0, 0, 0, 1, 1, 1, 1, 1,\n",
       "       1, 1, 0, 1, 1, 1, 1, 1, 0, 1, 1, 1, 1, 1, 1, 1, 1, 1, 1, 1, 0, 0,\n",
       "       0, 0, 0, 0, 0, 0, 0, 0, 0, 0, 0, 0, 0, 0, 0, 0, 0, 0, 0, 0, 0, 0,\n",
       "       0, 0, 0, 0, 0, 0, 0, 0, 0, 0, 0, 0, 0, 0, 0, 0, 0, 0, 0, 0, 0, 0,\n",
       "       0, 0, 0, 0, 1, 1, 1, 1, 1, 1, 1, 1, 1, 0, 1, 1, 1, 0, 0, 0, 0, 0,\n",
       "       1, 0, 0, 0, 0, 0, 0], dtype=int32)"
      ]
     },
     "execution_count": 89,
     "metadata": {},
     "output_type": "execute_result"
    }
   ],
   "source": [
    "cl[0]"
   ]
  },
  {
   "cell_type": "code",
   "execution_count": 75,
   "id": "cf75d040-1abc-4bfb-979c-742ee905ce32",
   "metadata": {},
   "outputs": [
    {
     "name": "stdout",
     "output_type": "stream",
     "text": [
      "1.2985\n"
     ]
    }
   ],
   "source": []
  },
  {
   "cell_type": "code",
   "execution_count": 58,
   "id": "a941d688-d342-49c2-80af-b46b52b00fac",
   "metadata": {},
   "outputs": [
    {
     "name": "stdout",
     "output_type": "stream",
     "text": [
      "Data done\n",
      "(15000, 249) (15000, 249) (15000, 249) (15000,) approx size: 44.88 MB\n",
      "(1000, 249) (1000, 249) (1000, 249) (1000,) approx size: 2.992 MB\n",
      "Done.\n"
     ]
    }
   ],
   "source": [
    "# Set the logging level for Optuna to WARNING or higher to suppress informational messages\n",
    "logging.getLogger('optuna').setLevel(logging.WARNING)\n",
    "\n",
    "def optuna_ma(datafiles, Nevents=100, Ntrials=10):\n",
    "    #print(\"Optimizing:\", datafile)\n",
    "    x = []\n",
    "    y = []\n",
    "    val = []\n",
    "    p = []\n",
    "    for f in datafiles:\n",
    "        xt, yt, valt, pt = data(f)\n",
    "        for i in range(len(xt)):        \n",
    "            x.append(xt[i])\n",
    "            y.append(yt[i])\n",
    "            val.append(valt[i])\n",
    "            p.append(pt[i])\n",
    "\n",
    "    x = np.array(x)\n",
    "    y = np.array(y)\n",
    "    val = np.array(val)\n",
    "    p = np.array(p)\n",
    "\n",
    "#    x, y, val, p = data(datafiles[0])\n",
    "    print(\"Data done\")\n",
    "\n",
    "    \n",
    "    \n",
    "    \n",
    "    #x,y,val,p = data(datafiles[0])\n",
    "    total_size = x.nbytes + y.nbytes + val.nbytes + p.nbytes\n",
    "    print(x.shape, y.shape, val.shape, p.shape, \"approx size:\", total_size/1E6, \"MB\")\n",
    "    x, y, val, p = shuffle(x, y, val, p)\n",
    "    if len(x) > Nevents:\n",
    "        x, y, val, p = x[0:Nevents], y[0:Nevents], val[0:Nevents], p[0:Nevents]\n",
    "    total_size = x.nbytes + y.nbytes + val.nbytes + p.nbytes\n",
    "    print(x.shape, y.shape, val.shape, p.shape, \"approx size:\", total_size/1E6, \"MB\")\n",
    "\n",
    "\n",
    "    \n",
    "    def cluster_objective(trial):\n",
    "        seed = trial.suggest_float(\"seed\", 0, 4096)\n",
    "        agg = trial.suggest_float(\"agg\", 0, 4096)\n",
    "\n",
    "        if agg >= seed:\n",
    "            return float(\"inf\")\n",
    "\n",
    "        eff,cl = MA_clustering(seed,agg,x,y,val,p)\n",
    "        sq_eff_mu = (eff**2).mean()\n",
    "        eff_mu = eff.mean()\n",
    "        eff_sigma = eff.std()\n",
    "\n",
    "        return (eff_mu - 1)**2\n",
    "    \n",
    "    study = optuna.create_study()\n",
    "    study.optimize(cluster_objective, n_trials=Ntrials)\n",
    "    print(\"Done.\")\n",
    "    return study\n",
    "\n",
    "files = [\n",
    "\n",
    "        \"/home/bjartur/workspace/focalh_data_transformer/data/converted/E60_P1_N1000.root\",\n",
    "        \"/home/bjartur/workspace/focalh_data_transformer/data/converted/E60_P2_N1000.root\",\n",
    "        \"/home/bjartur/workspace/focalh_data_transformer/data/converted/E60_P3_N1000.root\",\n",
    "        \"/home/bjartur/workspace/focalh_data_transformer/data/converted/E60_P5_N1000.root\",\n",
    "        \"/home/bjartur/workspace/focalh_data_transformer/data/converted/E60_P10_N1000.root\",\n",
    "    \n",
    "        \"/home/bjartur/workspace/focalh_data_transformer/data/converted/E150_P1_N1000.root\",\n",
    "        \"/home/bjartur/workspace/focalh_data_transformer/data/converted/E150_P2_N1000.root\",\n",
    "        \"/home/bjartur/workspace/focalh_data_transformer/data/converted/E150_P3_N1000.root\",\n",
    "        \"/home/bjartur/workspace/focalh_data_transformer/data/converted/E150_P5_N1000.root\",\n",
    "        \"/home/bjartur/workspace/focalh_data_transformer/data/converted/E150_P10_N1000.root\",\n",
    "\n",
    "        \"/home/bjartur/workspace/focalh_data_transformer/data/converted/E300_P1_N1000.root\",\n",
    "        \"/home/bjartur/workspace/focalh_data_transformer/data/converted/E300_P2_N1000.root\",\n",
    "        \"/home/bjartur/workspace/focalh_data_transformer/data/converted/E300_P3_N1000.root\",\n",
    "        \"/home/bjartur/workspace/focalh_data_transformer/data/converted/E300_P5_N1000.root\",\n",
    "        \"/home/bjartur/workspace/focalh_data_transformer/data/converted/E300_P10_N1000.root\",\n",
    "    \n",
    "        ]\n",
    "\n",
    "study = optuna_ma(files, 1000, 2)"
   ]
  },
  {
   "cell_type": "code",
   "execution_count": 18,
   "id": "248c2c14-286d-445d-8a1b-da0cd0cca2c0",
   "metadata": {},
   "outputs": [
    {
     "name": "stdout",
     "output_type": "stream",
     "text": [
      "{'seed': 1013.9269792470484, 'agg': 639.6527898666548}\n"
     ]
    },
    {
     "data": {
      "application/vnd.plotly.v1+json": {
       "config": {
        "plotlyServerURL": "https://plot.ly"
       },
       "data": [
        {
         "mode": "markers",
         "name": "Objective Value",
         "type": "scatter",
         "x": [
          0,
          1,
          2,
          3,
          4,
          5,
          6,
          7,
          8,
          9,
          10,
          11,
          12,
          13,
          14,
          15,
          16,
          17,
          18,
          19,
          20,
          21,
          22,
          23,
          24,
          25,
          26,
          27,
          28,
          29,
          30,
          31,
          32,
          33,
          34,
          35,
          36,
          37,
          38,
          39,
          40,
          41,
          42,
          43,
          44,
          45,
          46,
          47,
          48,
          49,
          50,
          51,
          52,
          53,
          54,
          55,
          56,
          57,
          58,
          59,
          60,
          61,
          62,
          63,
          64,
          65,
          66,
          67,
          68,
          69,
          70,
          71,
          72,
          73,
          74,
          75,
          76,
          77,
          78,
          79,
          80,
          81,
          82,
          83,
          84,
          85,
          86,
          87,
          88,
          89,
          90,
          91,
          92,
          93,
          94,
          95,
          96,
          97,
          98,
          99
         ],
         "y": [
          0.04143938777777773,
          0.1361856011111111,
          0.07068508444444441,
          0.07963684,
          null,
          null,
          0.08962040111111105,
          null,
          1.6054579377777776,
          0.050071521111111114,
          null,
          0.03378243999999999,
          0.02953815111111113,
          null,
          0.024294417777777792,
          0.00020448999999999942,
          null,
          0.0017640000000000032,
          0.011714454444444411,
          0.04233992111111111,
          0.006555601111111123,
          0.006713071111111124,
          0.0004340277777777747,
          null,
          0.0004913611111111111,
          0.013401921111111116,
          null,
          0.0028054677777777713,
          0.12491512111111122,
          0.0521817877777778,
          null,
          0.0008840711111111144,
          4.489000000000053e-05,
          0.016787521111111096,
          null,
          0.13488480444444442,
          0.13276306777777766,
          null,
          null,
          null,
          0.002187121111111107,
          0.0012578844444444508,
          0.044718151111111125,
          0.0011628100000000013,
          0.024004337777777753,
          0.3592404011111113,
          0.06806881000000001,
          0.007568999999999994,
          null,
          null,
          0.03644281000000003,
          0.00031921777777777096,
          3.844000000000117e-05,
          0.0017724100000000023,
          0.005069440000000006,
          0.01873248444444445,
          0.02031575111111113,
          0.14689333777777758,
          null,
          3.9999999999991186e-08,
          0.025610667777777752,
          3.5204444444444596e-05,
          0.003544217777777777,
          8.587111111111277e-05,
          0.009774617777777755,
          null,
          null,
          null,
          2.726021137777777,
          null,
          null,
          0.0002210177777777786,
          0.0008256044444444476,
          4.946777777777781e-05,
          0.005480934444444453,
          0.03486933777777781,
          0.008311361111111122,
          5.0884444444444324e-05,
          0.003640111111111113,
          0.014153067777777778,
          0.09363600000000002,
          5.8267777777778505e-05,
          0.0029557344444444693,
          null,
          0.005358240000000006,
          null,
          null,
          0.14301002777777785,
          null,
          null,
          0.12785392111111113,
          0.00037765444444444327,
          5.8267777777778505e-05,
          0.002187121111111107,
          0.0004480277777777731,
          0.013378777777777759,
          0.004830250000000001,
          0.00777924000000001,
          0.021481787777777765,
          null
         ]
        },
        {
         "mode": "lines",
         "name": "Best Value",
         "type": "scatter",
         "x": [
          0,
          1,
          2,
          3,
          4,
          5,
          6,
          7,
          8,
          9,
          10,
          11,
          12,
          13,
          14,
          15,
          16,
          17,
          18,
          19,
          20,
          21,
          22,
          23,
          24,
          25,
          26,
          27,
          28,
          29,
          30,
          31,
          32,
          33,
          34,
          35,
          36,
          37,
          38,
          39,
          40,
          41,
          42,
          43,
          44,
          45,
          46,
          47,
          48,
          49,
          50,
          51,
          52,
          53,
          54,
          55,
          56,
          57,
          58,
          59,
          60,
          61,
          62,
          63,
          64,
          65,
          66,
          67,
          68,
          69,
          70,
          71,
          72,
          73,
          74,
          75,
          76,
          77,
          78,
          79,
          80,
          81,
          82,
          83,
          84,
          85,
          86,
          87,
          88,
          89,
          90,
          91,
          92,
          93,
          94,
          95,
          96,
          97,
          98,
          99
         ],
         "y": [
          0.04143938777777773,
          0.04143938777777773,
          0.04143938777777773,
          0.04143938777777773,
          0.04143938777777773,
          0.04143938777777773,
          0.04143938777777773,
          0.04143938777777773,
          0.04143938777777773,
          0.04143938777777773,
          0.04143938777777773,
          0.03378243999999999,
          0.02953815111111113,
          0.02953815111111113,
          0.024294417777777792,
          0.00020448999999999942,
          0.00020448999999999942,
          0.00020448999999999942,
          0.00020448999999999942,
          0.00020448999999999942,
          0.00020448999999999942,
          0.00020448999999999942,
          0.00020448999999999942,
          0.00020448999999999942,
          0.00020448999999999942,
          0.00020448999999999942,
          0.00020448999999999942,
          0.00020448999999999942,
          0.00020448999999999942,
          0.00020448999999999942,
          0.00020448999999999942,
          0.00020448999999999942,
          4.489000000000053e-05,
          4.489000000000053e-05,
          4.489000000000053e-05,
          4.489000000000053e-05,
          4.489000000000053e-05,
          4.489000000000053e-05,
          4.489000000000053e-05,
          4.489000000000053e-05,
          4.489000000000053e-05,
          4.489000000000053e-05,
          4.489000000000053e-05,
          4.489000000000053e-05,
          4.489000000000053e-05,
          4.489000000000053e-05,
          4.489000000000053e-05,
          4.489000000000053e-05,
          4.489000000000053e-05,
          4.489000000000053e-05,
          4.489000000000053e-05,
          4.489000000000053e-05,
          3.844000000000117e-05,
          3.844000000000117e-05,
          3.844000000000117e-05,
          3.844000000000117e-05,
          3.844000000000117e-05,
          3.844000000000117e-05,
          3.844000000000117e-05,
          3.9999999999991186e-08,
          3.9999999999991186e-08,
          3.9999999999991186e-08,
          3.9999999999991186e-08,
          3.9999999999991186e-08,
          3.9999999999991186e-08,
          3.9999999999991186e-08,
          3.9999999999991186e-08,
          3.9999999999991186e-08,
          3.9999999999991186e-08,
          3.9999999999991186e-08,
          3.9999999999991186e-08,
          3.9999999999991186e-08,
          3.9999999999991186e-08,
          3.9999999999991186e-08,
          3.9999999999991186e-08,
          3.9999999999991186e-08,
          3.9999999999991186e-08,
          3.9999999999991186e-08,
          3.9999999999991186e-08,
          3.9999999999991186e-08,
          3.9999999999991186e-08,
          3.9999999999991186e-08,
          3.9999999999991186e-08,
          3.9999999999991186e-08,
          3.9999999999991186e-08,
          3.9999999999991186e-08,
          3.9999999999991186e-08,
          3.9999999999991186e-08,
          3.9999999999991186e-08,
          3.9999999999991186e-08,
          3.9999999999991186e-08,
          3.9999999999991186e-08,
          3.9999999999991186e-08,
          3.9999999999991186e-08,
          3.9999999999991186e-08,
          3.9999999999991186e-08,
          3.9999999999991186e-08,
          3.9999999999991186e-08,
          3.9999999999991186e-08,
          3.9999999999991186e-08
         ]
        },
        {
         "marker": {
          "color": "#cccccc"
         },
         "mode": "markers",
         "name": "Infeasible Trial",
         "showlegend": false,
         "type": "scatter",
         "x": [],
         "y": []
        }
       ],
       "layout": {
        "template": {
         "data": {
          "bar": [
           {
            "error_x": {
             "color": "#2a3f5f"
            },
            "error_y": {
             "color": "#2a3f5f"
            },
            "marker": {
             "line": {
              "color": "#E5ECF6",
              "width": 0.5
             },
             "pattern": {
              "fillmode": "overlay",
              "size": 10,
              "solidity": 0.2
             }
            },
            "type": "bar"
           }
          ],
          "barpolar": [
           {
            "marker": {
             "line": {
              "color": "#E5ECF6",
              "width": 0.5
             },
             "pattern": {
              "fillmode": "overlay",
              "size": 10,
              "solidity": 0.2
             }
            },
            "type": "barpolar"
           }
          ],
          "carpet": [
           {
            "aaxis": {
             "endlinecolor": "#2a3f5f",
             "gridcolor": "white",
             "linecolor": "white",
             "minorgridcolor": "white",
             "startlinecolor": "#2a3f5f"
            },
            "baxis": {
             "endlinecolor": "#2a3f5f",
             "gridcolor": "white",
             "linecolor": "white",
             "minorgridcolor": "white",
             "startlinecolor": "#2a3f5f"
            },
            "type": "carpet"
           }
          ],
          "choropleth": [
           {
            "colorbar": {
             "outlinewidth": 0,
             "ticks": ""
            },
            "type": "choropleth"
           }
          ],
          "contour": [
           {
            "colorbar": {
             "outlinewidth": 0,
             "ticks": ""
            },
            "colorscale": [
             [
              0,
              "#0d0887"
             ],
             [
              0.1111111111111111,
              "#46039f"
             ],
             [
              0.2222222222222222,
              "#7201a8"
             ],
             [
              0.3333333333333333,
              "#9c179e"
             ],
             [
              0.4444444444444444,
              "#bd3786"
             ],
             [
              0.5555555555555556,
              "#d8576b"
             ],
             [
              0.6666666666666666,
              "#ed7953"
             ],
             [
              0.7777777777777778,
              "#fb9f3a"
             ],
             [
              0.8888888888888888,
              "#fdca26"
             ],
             [
              1,
              "#f0f921"
             ]
            ],
            "type": "contour"
           }
          ],
          "contourcarpet": [
           {
            "colorbar": {
             "outlinewidth": 0,
             "ticks": ""
            },
            "type": "contourcarpet"
           }
          ],
          "heatmap": [
           {
            "colorbar": {
             "outlinewidth": 0,
             "ticks": ""
            },
            "colorscale": [
             [
              0,
              "#0d0887"
             ],
             [
              0.1111111111111111,
              "#46039f"
             ],
             [
              0.2222222222222222,
              "#7201a8"
             ],
             [
              0.3333333333333333,
              "#9c179e"
             ],
             [
              0.4444444444444444,
              "#bd3786"
             ],
             [
              0.5555555555555556,
              "#d8576b"
             ],
             [
              0.6666666666666666,
              "#ed7953"
             ],
             [
              0.7777777777777778,
              "#fb9f3a"
             ],
             [
              0.8888888888888888,
              "#fdca26"
             ],
             [
              1,
              "#f0f921"
             ]
            ],
            "type": "heatmap"
           }
          ],
          "histogram": [
           {
            "marker": {
             "pattern": {
              "fillmode": "overlay",
              "size": 10,
              "solidity": 0.2
             }
            },
            "type": "histogram"
           }
          ],
          "histogram2d": [
           {
            "colorbar": {
             "outlinewidth": 0,
             "ticks": ""
            },
            "colorscale": [
             [
              0,
              "#0d0887"
             ],
             [
              0.1111111111111111,
              "#46039f"
             ],
             [
              0.2222222222222222,
              "#7201a8"
             ],
             [
              0.3333333333333333,
              "#9c179e"
             ],
             [
              0.4444444444444444,
              "#bd3786"
             ],
             [
              0.5555555555555556,
              "#d8576b"
             ],
             [
              0.6666666666666666,
              "#ed7953"
             ],
             [
              0.7777777777777778,
              "#fb9f3a"
             ],
             [
              0.8888888888888888,
              "#fdca26"
             ],
             [
              1,
              "#f0f921"
             ]
            ],
            "type": "histogram2d"
           }
          ],
          "histogram2dcontour": [
           {
            "colorbar": {
             "outlinewidth": 0,
             "ticks": ""
            },
            "colorscale": [
             [
              0,
              "#0d0887"
             ],
             [
              0.1111111111111111,
              "#46039f"
             ],
             [
              0.2222222222222222,
              "#7201a8"
             ],
             [
              0.3333333333333333,
              "#9c179e"
             ],
             [
              0.4444444444444444,
              "#bd3786"
             ],
             [
              0.5555555555555556,
              "#d8576b"
             ],
             [
              0.6666666666666666,
              "#ed7953"
             ],
             [
              0.7777777777777778,
              "#fb9f3a"
             ],
             [
              0.8888888888888888,
              "#fdca26"
             ],
             [
              1,
              "#f0f921"
             ]
            ],
            "type": "histogram2dcontour"
           }
          ],
          "mesh3d": [
           {
            "colorbar": {
             "outlinewidth": 0,
             "ticks": ""
            },
            "type": "mesh3d"
           }
          ],
          "parcoords": [
           {
            "line": {
             "colorbar": {
              "outlinewidth": 0,
              "ticks": ""
             }
            },
            "type": "parcoords"
           }
          ],
          "pie": [
           {
            "automargin": true,
            "type": "pie"
           }
          ],
          "scatter": [
           {
            "fillpattern": {
             "fillmode": "overlay",
             "size": 10,
             "solidity": 0.2
            },
            "type": "scatter"
           }
          ],
          "scatter3d": [
           {
            "line": {
             "colorbar": {
              "outlinewidth": 0,
              "ticks": ""
             }
            },
            "marker": {
             "colorbar": {
              "outlinewidth": 0,
              "ticks": ""
             }
            },
            "type": "scatter3d"
           }
          ],
          "scattercarpet": [
           {
            "marker": {
             "colorbar": {
              "outlinewidth": 0,
              "ticks": ""
             }
            },
            "type": "scattercarpet"
           }
          ],
          "scattergeo": [
           {
            "marker": {
             "colorbar": {
              "outlinewidth": 0,
              "ticks": ""
             }
            },
            "type": "scattergeo"
           }
          ],
          "scattergl": [
           {
            "marker": {
             "colorbar": {
              "outlinewidth": 0,
              "ticks": ""
             }
            },
            "type": "scattergl"
           }
          ],
          "scattermap": [
           {
            "marker": {
             "colorbar": {
              "outlinewidth": 0,
              "ticks": ""
             }
            },
            "type": "scattermap"
           }
          ],
          "scattermapbox": [
           {
            "marker": {
             "colorbar": {
              "outlinewidth": 0,
              "ticks": ""
             }
            },
            "type": "scattermapbox"
           }
          ],
          "scatterpolar": [
           {
            "marker": {
             "colorbar": {
              "outlinewidth": 0,
              "ticks": ""
             }
            },
            "type": "scatterpolar"
           }
          ],
          "scatterpolargl": [
           {
            "marker": {
             "colorbar": {
              "outlinewidth": 0,
              "ticks": ""
             }
            },
            "type": "scatterpolargl"
           }
          ],
          "scatterternary": [
           {
            "marker": {
             "colorbar": {
              "outlinewidth": 0,
              "ticks": ""
             }
            },
            "type": "scatterternary"
           }
          ],
          "surface": [
           {
            "colorbar": {
             "outlinewidth": 0,
             "ticks": ""
            },
            "colorscale": [
             [
              0,
              "#0d0887"
             ],
             [
              0.1111111111111111,
              "#46039f"
             ],
             [
              0.2222222222222222,
              "#7201a8"
             ],
             [
              0.3333333333333333,
              "#9c179e"
             ],
             [
              0.4444444444444444,
              "#bd3786"
             ],
             [
              0.5555555555555556,
              "#d8576b"
             ],
             [
              0.6666666666666666,
              "#ed7953"
             ],
             [
              0.7777777777777778,
              "#fb9f3a"
             ],
             [
              0.8888888888888888,
              "#fdca26"
             ],
             [
              1,
              "#f0f921"
             ]
            ],
            "type": "surface"
           }
          ],
          "table": [
           {
            "cells": {
             "fill": {
              "color": "#EBF0F8"
             },
             "line": {
              "color": "white"
             }
            },
            "header": {
             "fill": {
              "color": "#C8D4E3"
             },
             "line": {
              "color": "white"
             }
            },
            "type": "table"
           }
          ]
         },
         "layout": {
          "annotationdefaults": {
           "arrowcolor": "#2a3f5f",
           "arrowhead": 0,
           "arrowwidth": 1
          },
          "autotypenumbers": "strict",
          "coloraxis": {
           "colorbar": {
            "outlinewidth": 0,
            "ticks": ""
           }
          },
          "colorscale": {
           "diverging": [
            [
             0,
             "#8e0152"
            ],
            [
             0.1,
             "#c51b7d"
            ],
            [
             0.2,
             "#de77ae"
            ],
            [
             0.3,
             "#f1b6da"
            ],
            [
             0.4,
             "#fde0ef"
            ],
            [
             0.5,
             "#f7f7f7"
            ],
            [
             0.6,
             "#e6f5d0"
            ],
            [
             0.7,
             "#b8e186"
            ],
            [
             0.8,
             "#7fbc41"
            ],
            [
             0.9,
             "#4d9221"
            ],
            [
             1,
             "#276419"
            ]
           ],
           "sequential": [
            [
             0,
             "#0d0887"
            ],
            [
             0.1111111111111111,
             "#46039f"
            ],
            [
             0.2222222222222222,
             "#7201a8"
            ],
            [
             0.3333333333333333,
             "#9c179e"
            ],
            [
             0.4444444444444444,
             "#bd3786"
            ],
            [
             0.5555555555555556,
             "#d8576b"
            ],
            [
             0.6666666666666666,
             "#ed7953"
            ],
            [
             0.7777777777777778,
             "#fb9f3a"
            ],
            [
             0.8888888888888888,
             "#fdca26"
            ],
            [
             1,
             "#f0f921"
            ]
           ],
           "sequentialminus": [
            [
             0,
             "#0d0887"
            ],
            [
             0.1111111111111111,
             "#46039f"
            ],
            [
             0.2222222222222222,
             "#7201a8"
            ],
            [
             0.3333333333333333,
             "#9c179e"
            ],
            [
             0.4444444444444444,
             "#bd3786"
            ],
            [
             0.5555555555555556,
             "#d8576b"
            ],
            [
             0.6666666666666666,
             "#ed7953"
            ],
            [
             0.7777777777777778,
             "#fb9f3a"
            ],
            [
             0.8888888888888888,
             "#fdca26"
            ],
            [
             1,
             "#f0f921"
            ]
           ]
          },
          "colorway": [
           "#636efa",
           "#EF553B",
           "#00cc96",
           "#ab63fa",
           "#FFA15A",
           "#19d3f3",
           "#FF6692",
           "#B6E880",
           "#FF97FF",
           "#FECB52"
          ],
          "font": {
           "color": "#2a3f5f"
          },
          "geo": {
           "bgcolor": "white",
           "lakecolor": "white",
           "landcolor": "#E5ECF6",
           "showlakes": true,
           "showland": true,
           "subunitcolor": "white"
          },
          "hoverlabel": {
           "align": "left"
          },
          "hovermode": "closest",
          "mapbox": {
           "style": "light"
          },
          "paper_bgcolor": "white",
          "plot_bgcolor": "#E5ECF6",
          "polar": {
           "angularaxis": {
            "gridcolor": "white",
            "linecolor": "white",
            "ticks": ""
           },
           "bgcolor": "#E5ECF6",
           "radialaxis": {
            "gridcolor": "white",
            "linecolor": "white",
            "ticks": ""
           }
          },
          "scene": {
           "xaxis": {
            "backgroundcolor": "#E5ECF6",
            "gridcolor": "white",
            "gridwidth": 2,
            "linecolor": "white",
            "showbackground": true,
            "ticks": "",
            "zerolinecolor": "white"
           },
           "yaxis": {
            "backgroundcolor": "#E5ECF6",
            "gridcolor": "white",
            "gridwidth": 2,
            "linecolor": "white",
            "showbackground": true,
            "ticks": "",
            "zerolinecolor": "white"
           },
           "zaxis": {
            "backgroundcolor": "#E5ECF6",
            "gridcolor": "white",
            "gridwidth": 2,
            "linecolor": "white",
            "showbackground": true,
            "ticks": "",
            "zerolinecolor": "white"
           }
          },
          "shapedefaults": {
           "line": {
            "color": "#2a3f5f"
           }
          },
          "ternary": {
           "aaxis": {
            "gridcolor": "white",
            "linecolor": "white",
            "ticks": ""
           },
           "baxis": {
            "gridcolor": "white",
            "linecolor": "white",
            "ticks": ""
           },
           "bgcolor": "#E5ECF6",
           "caxis": {
            "gridcolor": "white",
            "linecolor": "white",
            "ticks": ""
           }
          },
          "title": {
           "x": 0.05
          },
          "xaxis": {
           "automargin": true,
           "gridcolor": "white",
           "linecolor": "white",
           "ticks": "",
           "title": {
            "standoff": 15
           },
           "zerolinecolor": "white",
           "zerolinewidth": 2
          },
          "yaxis": {
           "automargin": true,
           "gridcolor": "white",
           "linecolor": "white",
           "ticks": "",
           "title": {
            "standoff": 15
           },
           "zerolinecolor": "white",
           "zerolinewidth": 2
          }
         }
        },
        "title": {
         "text": "Optimization History Plot"
        },
        "xaxis": {
         "title": {
          "text": "Trial"
         }
        },
        "yaxis": {
         "title": {
          "text": "Objective Value"
         }
        }
       }
      },
      "image/png": "[encoded data removed]"
     },
     "metadata": {},
     "output_type": "display_data"
    }
   ],
   "source": [
    "study = optuna_ma(files, 1000, 100)\n",
    "fig = optuna.visualization.plot_optimization_history(study)\n",
    "print(study.best_trial.params)\n",
    "show(fig)"
   ]
  },
  {
   "cell_type": "code",
   "execution_count": 62,
   "id": "cd27ceed-7924-4ca5-8aa4-522919d91dca",
   "metadata": {},
   "outputs": [
    {
     "name": "stderr",
     "output_type": "stream",
     "text": [
      "[W 2025-08-11 15:07:26,412] Trial 0 is omitted in visualization because its objective value is inf or nan.\n",
      "[W 2025-08-11 15:07:26,414] Trial 4 is omitted in visualization because its objective value is inf or nan.\n",
      "[W 2025-08-11 15:07:26,415] Trial 5 is omitted in visualization because its objective value is inf or nan.\n",
      "[W 2025-08-11 15:07:26,416] Trial 7 is omitted in visualization because its objective value is inf or nan.\n",
      "[W 2025-08-11 15:07:26,416] Trial 9 is omitted in visualization because its objective value is inf or nan.\n",
      "[W 2025-08-11 15:07:26,417] Trial 15 is omitted in visualization because its objective value is inf or nan.\n",
      "[W 2025-08-11 15:07:26,419] Trial 20 is omitted in visualization because its objective value is inf or nan.\n",
      "[W 2025-08-11 15:07:26,420] Trial 24 is omitted in visualization because its objective value is inf or nan.\n",
      "[W 2025-08-11 15:07:26,421] Trial 28 is omitted in visualization because its objective value is inf or nan.\n",
      "[W 2025-08-11 15:07:26,421] Trial 29 is omitted in visualization because its objective value is inf or nan.\n",
      "[W 2025-08-11 15:07:26,423] Trial 30 is omitted in visualization because its objective value is inf or nan.\n",
      "[W 2025-08-11 15:07:26,425] Trial 35 is omitted in visualization because its objective value is inf or nan.\n",
      "[W 2025-08-11 15:07:26,425] Trial 37 is omitted in visualization because its objective value is inf or nan.\n",
      "[W 2025-08-11 15:07:26,426] Trial 38 is omitted in visualization because its objective value is inf or nan.\n",
      "[W 2025-08-11 15:07:26,427] Trial 62 is omitted in visualization because its objective value is inf or nan.\n",
      "[W 2025-08-11 15:07:26,428] Trial 64 is omitted in visualization because its objective value is inf or nan.\n",
      "[W 2025-08-11 15:07:26,430] Trial 75 is omitted in visualization because its objective value is inf or nan.\n",
      "[W 2025-08-11 15:07:26,431] Trial 95 is omitted in visualization because its objective value is inf or nan.\n"
     ]
    },
    {
     "name": "stdout",
     "output_type": "stream",
     "text": [
      "{'seed': 1193.1647844913125, 'agg': 484.04942938174645}\n"
     ]
    },
    {
     "data": {
      "application/vnd.plotly.v1+json": {
       "config": {
        "plotlyServerURL": "https://plot.ly"
       },
       "data": [
        {
         "cliponaxis": false,
         "hovertemplate": [
          "agg (FloatDistribution): 0.0026517217930664455<extra></extra>",
          "seed (FloatDistribution): 0.9973482782069336<extra></extra>"
         ],
         "name": "Objective Value",
         "orientation": "h",
         "text": [
          "<0.01",
          "1.00"
         ],
         "textposition": "outside",
         "type": "bar",
         "x": [
          0.0026517217930664455,
          0.9973482782069336
         ],
         "y": [
          "agg",
          "seed"
         ]
        }
       ],
       "layout": {
        "template": {
         "data": {
          "bar": [
           {
            "error_x": {
             "color": "#2a3f5f"
            },
            "error_y": {
             "color": "#2a3f5f"
            },
            "marker": {
             "line": {
              "color": "#E5ECF6",
              "width": 0.5
             },
             "pattern": {
              "fillmode": "overlay",
              "size": 10,
              "solidity": 0.2
             }
            },
            "type": "bar"
           }
          ],
          "barpolar": [
           {
            "marker": {
             "line": {
              "color": "#E5ECF6",
              "width": 0.5
             },
             "pattern": {
              "fillmode": "overlay",
              "size": 10,
              "solidity": 0.2
             }
            },
            "type": "barpolar"
           }
          ],
          "carpet": [
           {
            "aaxis": {
             "endlinecolor": "#2a3f5f",
             "gridcolor": "white",
             "linecolor": "white",
             "minorgridcolor": "white",
             "startlinecolor": "#2a3f5f"
            },
            "baxis": {
             "endlinecolor": "#2a3f5f",
             "gridcolor": "white",
             "linecolor": "white",
             "minorgridcolor": "white",
             "startlinecolor": "#2a3f5f"
            },
            "type": "carpet"
           }
          ],
          "choropleth": [
           {
            "colorbar": {
             "outlinewidth": 0,
             "ticks": ""
            },
            "type": "choropleth"
           }
          ],
          "contour": [
           {
            "colorbar": {
             "outlinewidth": 0,
             "ticks": ""
            },
            "colorscale": [
             [
              0,
              "#0d0887"
             ],
             [
              0.1111111111111111,
              "#46039f"
             ],
             [
              0.2222222222222222,
              "#7201a8"
             ],
             [
              0.3333333333333333,
              "#9c179e"
             ],
             [
              0.4444444444444444,
              "#bd3786"
             ],
             [
              0.5555555555555556,
              "#d8576b"
             ],
             [
              0.6666666666666666,
              "#ed7953"
             ],
             [
              0.7777777777777778,
              "#fb9f3a"
             ],
             [
              0.8888888888888888,
              "#fdca26"
             ],
             [
              1,
              "#f0f921"
             ]
            ],
            "type": "contour"
           }
          ],
          "contourcarpet": [
           {
            "colorbar": {
             "outlinewidth": 0,
             "ticks": ""
            },
            "type": "contourcarpet"
           }
          ],
          "heatmap": [
           {
            "colorbar": {
             "outlinewidth": 0,
             "ticks": ""
            },
            "colorscale": [
             [
              0,
              "#0d0887"
             ],
             [
              0.1111111111111111,
              "#46039f"
             ],
             [
              0.2222222222222222,
              "#7201a8"
             ],
             [
              0.3333333333333333,
              "#9c179e"
             ],
             [
              0.4444444444444444,
              "#bd3786"
             ],
             [
              0.5555555555555556,
              "#d8576b"
             ],
             [
              0.6666666666666666,
              "#ed7953"
             ],
             [
              0.7777777777777778,
              "#fb9f3a"
             ],
             [
              0.8888888888888888,
              "#fdca26"
             ],
             [
              1,
              "#f0f921"
             ]
            ],
            "type": "heatmap"
           }
          ],
          "histogram": [
           {
            "marker": {
             "pattern": {
              "fillmode": "overlay",
              "size": 10,
              "solidity": 0.2
             }
            },
            "type": "histogram"
           }
          ],
          "histogram2d": [
           {
            "colorbar": {
             "outlinewidth": 0,
             "ticks": ""
            },
            "colorscale": [
             [
              0,
              "#0d0887"
             ],
             [
              0.1111111111111111,
              "#46039f"
             ],
             [
              0.2222222222222222,
              "#7201a8"
             ],
             [
              0.3333333333333333,
              "#9c179e"
             ],
             [
              0.4444444444444444,
              "#bd3786"
             ],
             [
              0.5555555555555556,
              "#d8576b"
             ],
             [
              0.6666666666666666,
              "#ed7953"
             ],
             [
              0.7777777777777778,
              "#fb9f3a"
             ],
             [
              0.8888888888888888,
              "#fdca26"
             ],
             [
              1,
              "#f0f921"
             ]
            ],
            "type": "histogram2d"
           }
          ],
          "histogram2dcontour": [
           {
            "colorbar": {
             "outlinewidth": 0,
             "ticks": ""
            },
            "colorscale": [
             [
              0,
              "#0d0887"
             ],
             [
              0.1111111111111111,
              "#46039f"
             ],
             [
              0.2222222222222222,
              "#7201a8"
             ],
             [
              0.3333333333333333,
              "#9c179e"
             ],
             [
              0.4444444444444444,
              "#bd3786"
             ],
             [
              0.5555555555555556,
              "#d8576b"
             ],
             [
              0.6666666666666666,
              "#ed7953"
             ],
             [
              0.7777777777777778,
              "#fb9f3a"
             ],
             [
              0.8888888888888888,
              "#fdca26"
             ],
             [
              1,
              "#f0f921"
             ]
            ],
            "type": "histogram2dcontour"
           }
          ],
          "mesh3d": [
           {
            "colorbar": {
             "outlinewidth": 0,
             "ticks": ""
            },
            "type": "mesh3d"
           }
          ],
          "parcoords": [
           {
            "line": {
             "colorbar": {
              "outlinewidth": 0,
              "ticks": ""
             }
            },
            "type": "parcoords"
           }
          ],
          "pie": [
           {
            "automargin": true,
            "type": "pie"
           }
          ],
          "scatter": [
           {
            "fillpattern": {
             "fillmode": "overlay",
             "size": 10,
             "solidity": 0.2
            },
            "type": "scatter"
           }
          ],
          "scatter3d": [
           {
            "line": {
             "colorbar": {
              "outlinewidth": 0,
              "ticks": ""
             }
            },
            "marker": {
             "colorbar": {
              "outlinewidth": 0,
              "ticks": ""
             }
            },
            "type": "scatter3d"
           }
          ],
          "scattercarpet": [
           {
            "marker": {
             "colorbar": {
              "outlinewidth": 0,
              "ticks": ""
             }
            },
            "type": "scattercarpet"
           }
          ],
          "scattergeo": [
           {
            "marker": {
             "colorbar": {
              "outlinewidth": 0,
              "ticks": ""
             }
            },
            "type": "scattergeo"
           }
          ],
          "scattergl": [
           {
            "marker": {
             "colorbar": {
              "outlinewidth": 0,
              "ticks": ""
             }
            },
            "type": "scattergl"
           }
          ],
          "scattermap": [
           {
            "marker": {
             "colorbar": {
              "outlinewidth": 0,
              "ticks": ""
             }
            },
            "type": "scattermap"
           }
          ],
          "scattermapbox": [
           {
            "marker": {
             "colorbar": {
              "outlinewidth": 0,
              "ticks": ""
             }
            },
            "type": "scattermapbox"
           }
          ],
          "scatterpolar": [
           {
            "marker": {
             "colorbar": {
              "outlinewidth": 0,
              "ticks": ""
             }
            },
            "type": "scatterpolar"
           }
          ],
          "scatterpolargl": [
           {
            "marker": {
             "colorbar": {
              "outlinewidth": 0,
              "ticks": ""
             }
            },
            "type": "scatterpolargl"
           }
          ],
          "scatterternary": [
           {
            "marker": {
             "colorbar": {
              "outlinewidth": 0,
              "ticks": ""
             }
            },
            "type": "scatterternary"
           }
          ],
          "surface": [
           {
            "colorbar": {
             "outlinewidth": 0,
             "ticks": ""
            },
            "colorscale": [
             [
              0,
              "#0d0887"
             ],
             [
              0.1111111111111111,
              "#46039f"
             ],
             [
              0.2222222222222222,
              "#7201a8"
             ],
             [
              0.3333333333333333,
              "#9c179e"
             ],
             [
              0.4444444444444444,
              "#bd3786"
             ],
             [
              0.5555555555555556,
              "#d8576b"
             ],
             [
              0.6666666666666666,
              "#ed7953"
             ],
             [
              0.7777777777777778,
              "#fb9f3a"
             ],
             [
              0.8888888888888888,
              "#fdca26"
             ],
             [
              1,
              "#f0f921"
             ]
            ],
            "type": "surface"
           }
          ],
          "table": [
           {
            "cells": {
             "fill": {
              "color": "#EBF0F8"
             },
             "line": {
              "color": "white"
             }
            },
            "header": {
             "fill": {
              "color": "#C8D4E3"
             },
             "line": {
              "color": "white"
             }
            },
            "type": "table"
           }
          ]
         },
         "layout": {
          "annotationdefaults": {
           "arrowcolor": "#2a3f5f",
           "arrowhead": 0,
           "arrowwidth": 1
          },
          "autotypenumbers": "strict",
          "coloraxis": {
           "colorbar": {
            "outlinewidth": 0,
            "ticks": ""
           }
          },
          "colorscale": {
           "diverging": [
            [
             0,
             "#8e0152"
            ],
            [
             0.1,
             "#c51b7d"
            ],
            [
             0.2,
             "#de77ae"
            ],
            [
             0.3,
             "#f1b6da"
            ],
            [
             0.4,
             "#fde0ef"
            ],
            [
             0.5,
             "#f7f7f7"
            ],
            [
             0.6,
             "#e6f5d0"
            ],
            [
             0.7,
             "#b8e186"
            ],
            [
             0.8,
             "#7fbc41"
            ],
            [
             0.9,
             "#4d9221"
            ],
            [
             1,
             "#276419"
            ]
           ],
           "sequential": [
            [
             0,
             "#0d0887"
            ],
            [
             0.1111111111111111,
             "#46039f"
            ],
            [
             0.2222222222222222,
             "#7201a8"
            ],
            [
             0.3333333333333333,
             "#9c179e"
            ],
            [
             0.4444444444444444,
             "#bd3786"
            ],
            [
             0.5555555555555556,
             "#d8576b"
            ],
            [
             0.6666666666666666,
             "#ed7953"
            ],
            [
             0.7777777777777778,
             "#fb9f3a"
            ],
            [
             0.8888888888888888,
             "#fdca26"
            ],
            [
             1,
             "#f0f921"
            ]
           ],
           "sequentialminus": [
            [
             0,
             "#0d0887"
            ],
            [
             0.1111111111111111,
             "#46039f"
            ],
            [
             0.2222222222222222,
             "#7201a8"
            ],
            [
             0.3333333333333333,
             "#9c179e"
            ],
            [
             0.4444444444444444,
             "#bd3786"
            ],
            [
             0.5555555555555556,
             "#d8576b"
            ],
            [
             0.6666666666666666,
             "#ed7953"
            ],
            [
             0.7777777777777778,
             "#fb9f3a"
            ],
            [
             0.8888888888888888,
             "#fdca26"
            ],
            [
             1,
             "#f0f921"
            ]
           ]
          },
          "colorway": [
           "#636efa",
           "#EF553B",
           "#00cc96",
           "#ab63fa",
           "#FFA15A",
           "#19d3f3",
           "#FF6692",
           "#B6E880",
           "#FF97FF",
           "#FECB52"
          ],
          "font": {
           "color": "#2a3f5f"
          },
          "geo": {
           "bgcolor": "white",
           "lakecolor": "white",
           "landcolor": "#E5ECF6",
           "showlakes": true,
           "showland": true,
           "subunitcolor": "white"
          },
          "hoverlabel": {
           "align": "left"
          },
          "hovermode": "closest",
          "mapbox": {
           "style": "light"
          },
          "paper_bgcolor": "white",
          "plot_bgcolor": "#E5ECF6",
          "polar": {
           "angularaxis": {
            "gridcolor": "white",
            "linecolor": "white",
            "ticks": ""
           },
           "bgcolor": "#E5ECF6",
           "radialaxis": {
            "gridcolor": "white",
            "linecolor": "white",
            "ticks": ""
           }
          },
          "scene": {
           "xaxis": {
            "backgroundcolor": "#E5ECF6",
            "gridcolor": "white",
            "gridwidth": 2,
            "linecolor": "white",
            "showbackground": true,
            "ticks": "",
            "zerolinecolor": "white"
           },
           "yaxis": {
            "backgroundcolor": "#E5ECF6",
            "gridcolor": "white",
            "gridwidth": 2,
            "linecolor": "white",
            "showbackground": true,
            "ticks": "",
            "zerolinecolor": "white"
           },
           "zaxis": {
            "backgroundcolor": "#E5ECF6",
            "gridcolor": "white",
            "gridwidth": 2,
            "linecolor": "white",
            "showbackground": true,
            "ticks": "",
            "zerolinecolor": "white"
           }
          },
          "shapedefaults": {
           "line": {
            "color": "#2a3f5f"
           }
          },
          "ternary": {
           "aaxis": {
            "gridcolor": "white",
            "linecolor": "white",
            "ticks": ""
           },
           "baxis": {
            "gridcolor": "white",
            "linecolor": "white",
            "ticks": ""
           },
           "bgcolor": "#E5ECF6",
           "caxis": {
            "gridcolor": "white",
            "linecolor": "white",
            "ticks": ""
           }
          },
          "title": {
           "x": 0.05
          },
          "xaxis": {
           "automargin": true,
           "gridcolor": "white",
           "linecolor": "white",
           "ticks": "",
           "title": {
            "standoff": 15
           },
           "zerolinecolor": "white",
           "zerolinewidth": 2
          },
          "yaxis": {
           "automargin": true,
           "gridcolor": "white",
           "linecolor": "white",
           "ticks": "",
           "title": {
            "standoff": 15
           },
           "zerolinecolor": "white",
           "zerolinewidth": 2
          }
         }
        },
        "title": {
         "text": "Hyperparameter Importances"
        },
        "xaxis": {
         "title": {
          "text": "Hyperparameter Importance"
         }
        },
        "yaxis": {
         "title": {
          "text": "Hyperparameter"
         }
        }
       }
      },
      "image/png": "[encoded data removed]"
     },
     "metadata": {},
     "output_type": "display_data"
    }
   ],
   "source": [
    "fig = optuna.visualization.plot_param_importances(study)\n",
    "print(study.best_trial.params)\n",
    "show(fig)\n"
   ]
  },
  {
   "cell_type": "code",
   "execution_count": 61,
   "id": "c43b3f17-b059-42bb-b474-4044b63d674c",
   "metadata": {},
   "outputs": [
    {
     "name": "stdout",
     "output_type": "stream",
     "text": [
      "Data done\n",
      "(15000, 249) (15000, 249) (15000, 249) (15000,) approx size: 44.88 MB\n",
      "(100, 249) (100, 249) (100, 249) (100,) approx size: 0.2992 MB\n",
      "Done.\n",
      "{'seed': 1193.1647844913125, 'agg': 484.04942938174645}\n"
     ]
    },
    {
     "data": {
      "application/vnd.plotly.v1+json": {
       "config": {
        "plotlyServerURL": "https://plot.ly"
       },
       "data": [
        {
         "mode": "markers",
         "name": "Objective Value",
         "type": "scatter",
         "x": [
          0,
          1,
          2,
          3,
          4,
          5,
          6,
          7,
          8,
          9,
          10,
          11,
          12,
          13,
          14,
          15,
          16,
          17,
          18,
          19,
          20,
          21,
          22,
          23,
          24,
          25,
          26,
          27,
          28,
          29,
          30,
          31,
          32,
          33,
          34,
          35,
          36,
          37,
          38,
          39,
          40,
          41,
          42,
          43,
          44,
          45,
          46,
          47,
          48,
          49,
          50,
          51,
          52,
          53,
          54,
          55,
          56,
          57,
          58,
          59,
          60,
          61,
          62,
          63,
          64,
          65,
          66,
          67,
          68,
          69,
          70,
          71,
          72,
          73,
          74,
          75,
          76,
          77,
          78,
          79,
          80,
          81,
          82,
          83,
          84,
          85,
          86,
          87,
          88,
          89,
          90,
          91,
          92,
          93,
          94,
          95,
          96,
          97,
          98,
          99
         ],
         "y": [
          null,
          0.008341777777777786,
          0.11810677777777771,
          0.03385600000000002,
          null,
          null,
          0.0007654444444444418,
          null,
          0.12156844444444453,
          null,
          0.007802777777777765,
          0.008341777777777786,
          0.0030617777777777913,
          9.344444444444103e-05,
          0.03168400000000006,
          null,
          9.344444444444103e-05,
          0.030160111111111138,
          4.444444444446426e-07,
          0.08275211111111103,
          null,
          0.0005921111111111103,
          0.0007654444444444418,
          0.012543999999999972,
          null,
          4.444444444446426e-07,
          0.020449000000000037,
          0.001792111111111111,
          null,
          null,
          null,
          5.444444444444281e-06,
          0.004312111111111123,
          0.0005921111111111103,
          0.00557511111111111,
          null,
          0.0004000000000000007,
          null,
          null,
          0.06829511111111115,
          0.009152111111111135,
          7.511111111110996e-05,
          9.344444444444103e-05,
          0.00896177777777778,
          0.06846944444444435,
          0.1288809999999999,
          0.006399999999999993,
          0.0034417777777777754,
          5.877777777777845e-05,
          0.002704000000000005,
          0.9318684444444437,
          7.511111111110996e-05,
          4.444444444446426e-07,
          0.00896177777777778,
          4.444444444446426e-07,
          0.06249999999999989,
          0.0030987777777777875,
          0.00557511111111111,
          4.444444444446426e-07,
          6.400000000000012e-05,
          0.0034027777777777923,
          4.444444444446426e-07,
          null,
          0.38440000000000013,
          null,
          4.444444444446426e-07,
          0.0030617777777777913,
          0.0030987777777777875,
          0.007802777777777765,
          4.444444444446426e-07,
          0.009152111111111135,
          0.0005444444444444385,
          0.0009404444444444416,
          4.444444444446426e-07,
          0.0024337777777777895,
          null,
          0.004578777777777776,
          0.12296711111111112,
          4.816561777777779,
          0.0008801111111111148,
          0.001792111111111111,
          4.444444444446426e-07,
          6.400000000000012e-05,
          0.03204099999999994,
          4.444444444446426e-07,
          0.0008801111111111148,
          0.0018777777777777684,
          0.007802777777777765,
          0.004312111111111123,
          0.006240999999999994,
          5.444444444444281e-06,
          0.0004694444444444421,
          4.444444444446426e-07,
          0.0013201111111111107,
          0.0030617777777777913,
          null,
          0.005088444444444464,
          4.444444444446426e-07,
          0.10802177777777784,
          0.04340277777777765
         ]
        },
        {
         "mode": "lines",
         "name": "Best Value",
         "type": "scatter",
         "x": [
          0,
          1,
          2,
          3,
          4,
          5,
          6,
          7,
          8,
          9,
          10,
          11,
          12,
          13,
          14,
          15,
          16,
          17,
          18,
          19,
          20,
          21,
          22,
          23,
          24,
          25,
          26,
          27,
          28,
          29,
          30,
          31,
          32,
          33,
          34,
          35,
          36,
          37,
          38,
          39,
          40,
          41,
          42,
          43,
          44,
          45,
          46,
          47,
          48,
          49,
          50,
          51,
          52,
          53,
          54,
          55,
          56,
          57,
          58,
          59,
          60,
          61,
          62,
          63,
          64,
          65,
          66,
          67,
          68,
          69,
          70,
          71,
          72,
          73,
          74,
          75,
          76,
          77,
          78,
          79,
          80,
          81,
          82,
          83,
          84,
          85,
          86,
          87,
          88,
          89,
          90,
          91,
          92,
          93,
          94,
          95,
          96,
          97,
          98,
          99
         ],
         "y": [
          null,
          0.008341777777777786,
          0.008341777777777786,
          0.008341777777777786,
          0.008341777777777786,
          0.008341777777777786,
          0.0007654444444444418,
          0.0007654444444444418,
          0.0007654444444444418,
          0.0007654444444444418,
          0.0007654444444444418,
          0.0007654444444444418,
          0.0007654444444444418,
          9.344444444444103e-05,
          9.344444444444103e-05,
          9.344444444444103e-05,
          9.344444444444103e-05,
          9.344444444444103e-05,
          4.444444444446426e-07,
          4.444444444446426e-07,
          4.444444444446426e-07,
          4.444444444446426e-07,
          4.444444444446426e-07,
          4.444444444446426e-07,
          4.444444444446426e-07,
          4.444444444446426e-07,
          4.444444444446426e-07,
          4.444444444446426e-07,
          4.444444444446426e-07,
          4.444444444446426e-07,
          4.444444444446426e-07,
          4.444444444446426e-07,
          4.444444444446426e-07,
          4.444444444446426e-07,
          4.444444444446426e-07,
          4.444444444446426e-07,
          4.444444444446426e-07,
          4.444444444446426e-07,
          4.444444444446426e-07,
          4.444444444446426e-07,
          4.444444444446426e-07,
          4.444444444446426e-07,
          4.444444444446426e-07,
          4.444444444446426e-07,
          4.444444444446426e-07,
          4.444444444446426e-07,
          4.444444444446426e-07,
          4.444444444446426e-07,
          4.444444444446426e-07,
          4.444444444446426e-07,
          4.444444444446426e-07,
          4.444444444446426e-07,
          4.444444444446426e-07,
          4.444444444446426e-07,
          4.444444444446426e-07,
          4.444444444446426e-07,
          4.444444444446426e-07,
          4.444444444446426e-07,
          4.444444444446426e-07,
          4.444444444446426e-07,
          4.444444444446426e-07,
          4.444444444446426e-07,
          4.444444444446426e-07,
          4.444444444446426e-07,
          4.444444444446426e-07,
          4.444444444446426e-07,
          4.444444444446426e-07,
          4.444444444446426e-07,
          4.444444444446426e-07,
          4.444444444446426e-07,
          4.444444444446426e-07,
          4.444444444446426e-07,
          4.444444444446426e-07,
          4.444444444446426e-07,
          4.444444444446426e-07,
          4.444444444446426e-07,
          4.444444444446426e-07,
          4.444444444446426e-07,
          4.444444444446426e-07,
          4.444444444446426e-07,
          4.444444444446426e-07,
          4.444444444446426e-07,
          4.444444444446426e-07,
          4.444444444446426e-07,
          4.444444444446426e-07,
          4.444444444446426e-07,
          4.444444444446426e-07,
          4.444444444446426e-07,
          4.444444444446426e-07,
          4.444444444446426e-07,
          4.444444444446426e-07,
          4.444444444446426e-07,
          4.444444444446426e-07,
          4.444444444446426e-07,
          4.444444444446426e-07,
          4.444444444446426e-07,
          4.444444444446426e-07,
          4.444444444446426e-07,
          4.444444444446426e-07,
          4.444444444446426e-07
         ]
        },
        {
         "marker": {
          "color": "#cccccc"
         },
         "mode": "markers",
         "name": "Infeasible Trial",
         "showlegend": false,
         "type": "scatter",
         "x": [],
         "y": []
        }
       ],
       "layout": {
        "template": {
         "data": {
          "bar": [
           {
            "error_x": {
             "color": "#2a3f5f"
            },
            "error_y": {
             "color": "#2a3f5f"
            },
            "marker": {
             "line": {
              "color": "#E5ECF6",
              "width": 0.5
             },
             "pattern": {
              "fillmode": "overlay",
              "size": 10,
              "solidity": 0.2
             }
            },
            "type": "bar"
           }
          ],
          "barpolar": [
           {
            "marker": {
             "line": {
              "color": "#E5ECF6",
              "width": 0.5
             },
             "pattern": {
              "fillmode": "overlay",
              "size": 10,
              "solidity": 0.2
             }
            },
            "type": "barpolar"
           }
          ],
          "carpet": [
           {
            "aaxis": {
             "endlinecolor": "#2a3f5f",
             "gridcolor": "white",
             "linecolor": "white",
             "minorgridcolor": "white",
             "startlinecolor": "#2a3f5f"
            },
            "baxis": {
             "endlinecolor": "#2a3f5f",
             "gridcolor": "white",
             "linecolor": "white",
             "minorgridcolor": "white",
             "startlinecolor": "#2a3f5f"
            },
            "type": "carpet"
           }
          ],
          "choropleth": [
           {
            "colorbar": {
             "outlinewidth": 0,
             "ticks": ""
            },
            "type": "choropleth"
           }
          ],
          "contour": [
           {
            "colorbar": {
             "outlinewidth": 0,
             "ticks": ""
            },
            "colorscale": [
             [
              0,
              "#0d0887"
             ],
             [
              0.1111111111111111,
              "#46039f"
             ],
             [
              0.2222222222222222,
              "#7201a8"
             ],
             [
              0.3333333333333333,
              "#9c179e"
             ],
             [
              0.4444444444444444,
              "#bd3786"
             ],
             [
              0.5555555555555556,
              "#d8576b"
             ],
             [
              0.6666666666666666,
              "#ed7953"
             ],
             [
              0.7777777777777778,
              "#fb9f3a"
             ],
             [
              0.8888888888888888,
              "#fdca26"
             ],
             [
              1,
              "#f0f921"
             ]
            ],
            "type": "contour"
           }
          ],
          "contourcarpet": [
           {
            "colorbar": {
             "outlinewidth": 0,
             "ticks": ""
            },
            "type": "contourcarpet"
           }
          ],
          "heatmap": [
           {
            "colorbar": {
             "outlinewidth": 0,
             "ticks": ""
            },
            "colorscale": [
             [
              0,
              "#0d0887"
             ],
             [
              0.1111111111111111,
              "#46039f"
             ],
             [
              0.2222222222222222,
              "#7201a8"
             ],
             [
              0.3333333333333333,
              "#9c179e"
             ],
             [
              0.4444444444444444,
              "#bd3786"
             ],
             [
              0.5555555555555556,
              "#d8576b"
             ],
             [
              0.6666666666666666,
              "#ed7953"
             ],
             [
              0.7777777777777778,
              "#fb9f3a"
             ],
             [
              0.8888888888888888,
              "#fdca26"
             ],
             [
              1,
              "#f0f921"
             ]
            ],
            "type": "heatmap"
           }
          ],
          "histogram": [
           {
            "marker": {
             "pattern": {
              "fillmode": "overlay",
              "size": 10,
              "solidity": 0.2
             }
            },
            "type": "histogram"
           }
          ],
          "histogram2d": [
           {
            "colorbar": {
             "outlinewidth": 0,
             "ticks": ""
            },
            "colorscale": [
             [
              0,
              "#0d0887"
             ],
             [
              0.1111111111111111,
              "#46039f"
             ],
             [
              0.2222222222222222,
              "#7201a8"
             ],
             [
              0.3333333333333333,
              "#9c179e"
             ],
             [
              0.4444444444444444,
              "#bd3786"
             ],
             [
              0.5555555555555556,
              "#d8576b"
             ],
             [
              0.6666666666666666,
              "#ed7953"
             ],
             [
              0.7777777777777778,
              "#fb9f3a"
             ],
             [
              0.8888888888888888,
              "#fdca26"
             ],
             [
              1,
              "#f0f921"
             ]
            ],
            "type": "histogram2d"
           }
          ],
          "histogram2dcontour": [
           {
            "colorbar": {
             "outlinewidth": 0,
             "ticks": ""
            },
            "colorscale": [
             [
              0,
              "#0d0887"
             ],
             [
              0.1111111111111111,
              "#46039f"
             ],
             [
              0.2222222222222222,
              "#7201a8"
             ],
             [
              0.3333333333333333,
              "#9c179e"
             ],
             [
              0.4444444444444444,
              "#bd3786"
             ],
             [
              0.5555555555555556,
              "#d8576b"
             ],
             [
              0.6666666666666666,
              "#ed7953"
             ],
             [
              0.7777777777777778,
              "#fb9f3a"
             ],
             [
              0.8888888888888888,
              "#fdca26"
             ],
             [
              1,
              "#f0f921"
             ]
            ],
            "type": "histogram2dcontour"
           }
          ],
          "mesh3d": [
           {
            "colorbar": {
             "outlinewidth": 0,
             "ticks": ""
            },
            "type": "mesh3d"
           }
          ],
          "parcoords": [
           {
            "line": {
             "colorbar": {
              "outlinewidth": 0,
              "ticks": ""
             }
            },
            "type": "parcoords"
           }
          ],
          "pie": [
           {
            "automargin": true,
            "type": "pie"
           }
          ],
          "scatter": [
           {
            "fillpattern": {
             "fillmode": "overlay",
             "size": 10,
             "solidity": 0.2
            },
            "type": "scatter"
           }
          ],
          "scatter3d": [
           {
            "line": {
             "colorbar": {
              "outlinewidth": 0,
              "ticks": ""
             }
            },
            "marker": {
             "colorbar": {
              "outlinewidth": 0,
              "ticks": ""
             }
            },
            "type": "scatter3d"
           }
          ],
          "scattercarpet": [
           {
            "marker": {
             "colorbar": {
              "outlinewidth": 0,
              "ticks": ""
             }
            },
            "type": "scattercarpet"
           }
          ],
          "scattergeo": [
           {
            "marker": {
             "colorbar": {
              "outlinewidth": 0,
              "ticks": ""
             }
            },
            "type": "scattergeo"
           }
          ],
          "scattergl": [
           {
            "marker": {
             "colorbar": {
              "outlinewidth": 0,
              "ticks": ""
             }
            },
            "type": "scattergl"
           }
          ],
          "scattermap": [
           {
            "marker": {
             "colorbar": {
              "outlinewidth": 0,
              "ticks": ""
             }
            },
            "type": "scattermap"
           }
          ],
          "scattermapbox": [
           {
            "marker": {
             "colorbar": {
              "outlinewidth": 0,
              "ticks": ""
             }
            },
            "type": "scattermapbox"
           }
          ],
          "scatterpolar": [
           {
            "marker": {
             "colorbar": {
              "outlinewidth": 0,
              "ticks": ""
             }
            },
            "type": "scatterpolar"
           }
          ],
          "scatterpolargl": [
           {
            "marker": {
             "colorbar": {
              "outlinewidth": 0,
              "ticks": ""
             }
            },
            "type": "scatterpolargl"
           }
          ],
          "scatterternary": [
           {
            "marker": {
             "colorbar": {
              "outlinewidth": 0,
              "ticks": ""
             }
            },
            "type": "scatterternary"
           }
          ],
          "surface": [
           {
            "colorbar": {
             "outlinewidth": 0,
             "ticks": ""
            },
            "colorscale": [
             [
              0,
              "#0d0887"
             ],
             [
              0.1111111111111111,
              "#46039f"
             ],
             [
              0.2222222222222222,
              "#7201a8"
             ],
             [
              0.3333333333333333,
              "#9c179e"
             ],
             [
              0.4444444444444444,
              "#bd3786"
             ],
             [
              0.5555555555555556,
              "#d8576b"
             ],
             [
              0.6666666666666666,
              "#ed7953"
             ],
             [
              0.7777777777777778,
              "#fb9f3a"
             ],
             [
              0.8888888888888888,
              "#fdca26"
             ],
             [
              1,
              "#f0f921"
             ]
            ],
            "type": "surface"
           }
          ],
          "table": [
           {
            "cells": {
             "fill": {
              "color": "#EBF0F8"
             },
             "line": {
              "color": "white"
             }
            },
            "header": {
             "fill": {
              "color": "#C8D4E3"
             },
             "line": {
              "color": "white"
             }
            },
            "type": "table"
           }
          ]
         },
         "layout": {
          "annotationdefaults": {
           "arrowcolor": "#2a3f5f",
           "arrowhead": 0,
           "arrowwidth": 1
          },
          "autotypenumbers": "strict",
          "coloraxis": {
           "colorbar": {
            "outlinewidth": 0,
            "ticks": ""
           }
          },
          "colorscale": {
           "diverging": [
            [
             0,
             "#8e0152"
            ],
            [
             0.1,
             "#c51b7d"
            ],
            [
             0.2,
             "#de77ae"
            ],
            [
             0.3,
             "#f1b6da"
            ],
            [
             0.4,
             "#fde0ef"
            ],
            [
             0.5,
             "#f7f7f7"
            ],
            [
             0.6,
             "#e6f5d0"
            ],
            [
             0.7,
             "#b8e186"
            ],
            [
             0.8,
             "#7fbc41"
            ],
            [
             0.9,
             "#4d9221"
            ],
            [
             1,
             "#276419"
            ]
           ],
           "sequential": [
            [
             0,
             "#0d0887"
            ],
            [
             0.1111111111111111,
             "#46039f"
            ],
            [
             0.2222222222222222,
             "#7201a8"
            ],
            [
             0.3333333333333333,
             "#9c179e"
            ],
            [
             0.4444444444444444,
             "#bd3786"
            ],
            [
             0.5555555555555556,
             "#d8576b"
            ],
            [
             0.6666666666666666,
             "#ed7953"
            ],
            [
             0.7777777777777778,
             "#fb9f3a"
            ],
            [
             0.8888888888888888,
             "#fdca26"
            ],
            [
             1,
             "#f0f921"
            ]
           ],
           "sequentialminus": [
            [
             0,
             "#0d0887"
            ],
            [
             0.1111111111111111,
             "#46039f"
            ],
            [
             0.2222222222222222,
             "#7201a8"
            ],
            [
             0.3333333333333333,
             "#9c179e"
            ],
            [
             0.4444444444444444,
             "#bd3786"
            ],
            [
             0.5555555555555556,
             "#d8576b"
            ],
            [
             0.6666666666666666,
             "#ed7953"
            ],
            [
             0.7777777777777778,
             "#fb9f3a"
            ],
            [
             0.8888888888888888,
             "#fdca26"
            ],
            [
             1,
             "#f0f921"
            ]
           ]
          },
          "colorway": [
           "#636efa",
           "#EF553B",
           "#00cc96",
           "#ab63fa",
           "#FFA15A",
           "#19d3f3",
           "#FF6692",
           "#B6E880",
           "#FF97FF",
           "#FECB52"
          ],
          "font": {
           "color": "#2a3f5f"
          },
          "geo": {
           "bgcolor": "white",
           "lakecolor": "white",
           "landcolor": "#E5ECF6",
           "showlakes": true,
           "showland": true,
           "subunitcolor": "white"
          },
          "hoverlabel": {
           "align": "left"
          },
          "hovermode": "closest",
          "mapbox": {
           "style": "light"
          },
          "paper_bgcolor": "white",
          "plot_bgcolor": "#E5ECF6",
          "polar": {
           "angularaxis": {
            "gridcolor": "white",
            "linecolor": "white",
            "ticks": ""
           },
           "bgcolor": "#E5ECF6",
           "radialaxis": {
            "gridcolor": "white",
            "linecolor": "white",
            "ticks": ""
           }
          },
          "scene": {
           "xaxis": {
            "backgroundcolor": "#E5ECF6",
            "gridcolor": "white",
            "gridwidth": 2,
            "linecolor": "white",
            "showbackground": true,
            "ticks": "",
            "zerolinecolor": "white"
           },
           "yaxis": {
            "backgroundcolor": "#E5ECF6",
            "gridcolor": "white",
            "gridwidth": 2,
            "linecolor": "white",
            "showbackground": true,
            "ticks": "",
            "zerolinecolor": "white"
           },
           "zaxis": {
            "backgroundcolor": "#E5ECF6",
            "gridcolor": "white",
            "gridwidth": 2,
            "linecolor": "white",
            "showbackground": true,
            "ticks": "",
            "zerolinecolor": "white"
           }
          },
          "shapedefaults": {
           "line": {
            "color": "#2a3f5f"
           }
          },
          "ternary": {
           "aaxis": {
            "gridcolor": "white",
            "linecolor": "white",
            "ticks": ""
           },
           "baxis": {
            "gridcolor": "white",
            "linecolor": "white",
            "ticks": ""
           },
           "bgcolor": "#E5ECF6",
           "caxis": {
            "gridcolor": "white",
            "linecolor": "white",
            "ticks": ""
           }
          },
          "title": {
           "x": 0.05
          },
          "xaxis": {
           "automargin": true,
           "gridcolor": "white",
           "linecolor": "white",
           "ticks": "",
           "title": {
            "standoff": 15
           },
           "zerolinecolor": "white",
           "zerolinewidth": 2
          },
          "yaxis": {
           "automargin": true,
           "gridcolor": "white",
           "linecolor": "white",
           "ticks": "",
           "title": {
            "standoff": 15
           },
           "zerolinecolor": "white",
           "zerolinewidth": 2
          }
         }
        },
        "title": {
         "text": "Optimization History Plot"
        },
        "xaxis": {
         "title": {
          "text": "Trial"
         }
        },
        "yaxis": {
         "title": {
          "text": "Objective Value"
         }
        }
       }
      },
      "image/png": "[encoded data removed]"
     },
     "metadata": {},
     "output_type": "display_data"
    }
   ],
   "source": [
    "study = optuna_ma(files, 100, 100)\n",
    "fig = optuna.visualization.plot_optimization_history(study)\n",
    "print(study.best_trial.params)\n",
    "show(fig)"
   ]
  },
  {
   "cell_type": "code",
   "execution_count": 35,
   "id": "2c9c5859-3c61-40d1-be71-8242f629fc0d",
   "metadata": {},
   "outputs": [
    {
     "data": {
      "text/plain": [
       "974.1352018652519"
      ]
     },
     "execution_count": 35,
     "metadata": {},
     "output_type": "execute_result"
    }
   ],
   "source": [
    "study.best_trial.params[\"seed\"]"
   ]
  },
  {
   "cell_type": "code",
   "execution_count": 49,
   "id": "f6e58b97-6cc6-47ea-9b0a-e04dcd2a003e",
   "metadata": {},
   "outputs": [
    {
     "name": "stdout",
     "output_type": "stream",
     "text": [
      "0\n",
      "Data done\n",
      "(15000, 249) (15000, 249) (15000, 249) (15000,)\n",
      "(100, 249) (100, 249) (100, 249) (100,)\n",
      "Done.\n",
      "1\n",
      "Data done\n",
      "(15000, 249) (15000, 249) (15000, 249) (15000,)\n",
      "(100, 249) (100, 249) (100, 249) (100,)\n",
      "Done.\n",
      "2\n",
      "Data done\n",
      "(15000, 249) (15000, 249) (15000, 249) (15000,)\n",
      "(100, 249) (100, 249) (100, 249) (100,)\n",
      "Done.\n",
      "3\n",
      "Data done\n",
      "(15000, 249) (15000, 249) (15000, 249) (15000,)\n",
      "(100, 249) (100, 249) (100, 249) (100,)\n",
      "Done.\n",
      "4\n",
      "Data done\n",
      "(15000, 249) (15000, 249) (15000, 249) (15000,)\n",
      "(100, 249) (100, 249) (100, 249) (100,)\n",
      "Done.\n",
      "5\n",
      "Data done\n",
      "(15000, 249) (15000, 249) (15000, 249) (15000,)\n",
      "(100, 249) (100, 249) (100, 249) (100,)\n",
      "Done.\n",
      "6\n",
      "Data done\n",
      "(15000, 249) (15000, 249) (15000, 249) (15000,)\n",
      "(100, 249) (100, 249) (100, 249) (100,)\n",
      "Done.\n",
      "7\n",
      "Data done\n",
      "(15000, 249) (15000, 249) (15000, 249) (15000,)\n",
      "(100, 249) (100, 249) (100, 249) (100,)\n",
      "Done.\n",
      "8\n",
      "Data done\n",
      "(15000, 249) (15000, 249) (15000, 249) (15000,)\n",
      "(100, 249) (100, 249) (100, 249) (100,)\n",
      "Done.\n",
      "9\n",
      "Data done\n",
      "(15000, 249) (15000, 249) (15000, 249) (15000,)\n",
      "(100, 249) (100, 249) (100, 249) (100,)\n",
      "Done.\n"
     ]
    },
    {
     "data": {
      "text/plain": [
       "<matplotlib.legend.Legend at 0x75f26c5ef440>"
      ]
     },
     "execution_count": 49,
     "metadata": {},
     "output_type": "execute_result"
    },
    {
     "data": {
      "image/png": "[encoded data removed]",
      "text/plain": [
       "<Figure size 640x480 with 1 Axes>"
      ]
     },
     "metadata": {},
     "output_type": "display_data"
    }
   ],
   "source": [
    "best_seed = []\n",
    "best_agg = []\n",
    "for i in range(10):\n",
    "    print(i)\n",
    "    study = optuna_ma(files, 100, 100)\n",
    "    best_seed.append(study.best_trial.params[\"seed\"])\n",
    "    best_agg.append(study.best_trial.params[\"agg\"])\n",
    "\n",
    "plt.plot(best_seed, label=\"seed\")\n",
    "plt.plot(best_agg, label=\"agg\")\n",
    "plt.legend()\n",
    "print(\"seed mu:\",np.mean(best_seed), \"sigma:\", np.std(best_seed))\n",
    "print(\"agg mu:\",np.mean(best_agg), \"sigma:\", np.std(best_agg))\n"
   ]
  },
  {
   "cell_type": "code",
   "execution_count": 59,
   "id": "2c2bfbc9-b38e-45d6-bd48-4b28c3f13817",
   "metadata": {},
   "outputs": [
    {
     "name": "stdout",
     "output_type": "stream",
     "text": [
      "seed mu: 1007.8416251827297 sigma: 94.95573906423868\n",
      "agg mu: 386.9947562629602 sigma: 243.60119432809847\n"
     ]
    },
    {
     "data": {
      "image/png": "[encoded data removed]",
      "text/plain": [
       "<Figure size 640x480 with 1 Axes>"
      ]
     },
     "metadata": {},
     "output_type": "display_data"
    }
   ],
   "source": [
    "plt.plot(best_seed, label=\"seed\")\n",
    "plt.plot(best_agg, label=\"agg\")\n",
    "plt.legend()\n",
    "print(\"seed mu:\",np.mean(best_seed), \"sigma:\", np.std(best_seed))\n",
    "print(\"agg mu:\",np.mean(best_agg), \"sigma:\", np.std(best_agg))\n"
   ]
  },
  {
   "cell_type": "markdown",
   "id": "009d1d71-341d-44db-9cc4-6dc13fe382cd",
   "metadata": {},
   "source": [
    "# Image test"
   ]
  },
  {
   "cell_type": "code",
   "execution_count": 10,
   "id": "6ea32eb6-006e-4ab7-a09d-2ed46d036d8b",
   "metadata": {},
   "outputs": [],
   "source": [
    "img_data = torch.load(\"/home/bjartur/workspace/nn_clustering/\" + \"E150_P3_N1000_IMG.pt\")"
   ]
  },
  {
   "cell_type": "code",
   "execution_count": 15,
   "id": "80aa002e-7e21-4ab7-a954-3974a6721e1e",
   "metadata": {},
   "outputs": [],
   "source": [
    "def plot_tensor(tensor, idx, fig=None, ax=None):\n",
    "    if ax==None:\n",
    "        fig,ax = plt.subplots()\n",
    "    im = ax.imshow(tensor[idx][0])\n",
    "    cbar = fig.colorbar(im, ax=ax)\n",
    "\n",
    "def ma_image(tensor, idx):\n",
    "    adj = np.load(\"p2_image_adj_21x21.npy\")\n",
    "    dims = tensor[idx][0].shape\n",
    "    values = tensor[idx][0].flatten().numpy()\n",
    "\n",
    "    labels = ModifiedAggregation(adj, values, seed=0.7, agg=0.1)\n",
    "    colors = ['Greys', 'Purples', 'Blues', 'Greens', 'Oranges', 'Reds',\n",
    "                      'YlOrBr', 'YlOrRd', 'OrRd', 'PuRd', 'RdPu', 'BuPu',\n",
    "                      'GnBu', 'PuBu', 'YlGnBu', 'PuBuGn', 'BuGn', 'YlGn']\n",
    "\n",
    "    for l in set(labels):\n",
    "        if l == 0:\n",
    "            continue\n",
    "        mask = labels == l\n",
    "        plt.imshow(mask.reshape(dims[0],dims[1]), cmap=colors[l])\n",
    "        plt.show()\n",
    "    \n",
    "#    print(labels)\n",
    "\n",
    "#plot_tensor(img_data[\"event\"], 15)\n",
    "#plot_tensor(img_data[\"target\"], 10)\n",
    "#ma_image(img_data[\"event\"], 15)\n",
    "#ma_image(img_data[\"target\"], 10)"
   ]
  },
  {
   "cell_type": "code",
   "execution_count": 24,
   "id": "2f0ab2f4-5ce7-4564-9ccd-38bdc84e9eb3",
   "metadata": {},
   "outputs": [],
   "source": []
  },
  {
   "cell_type": "code",
   "execution_count": 18,
   "id": "1b640171-c872-42ad-90d8-48a98d82c68a",
   "metadata": {},
   "outputs": [
    {
     "name": "stdout",
     "output_type": "stream",
     "text": [
      "[3.]\n"
     ]
    },
    {
     "data": {
      "image/png": "[encoded data removed]",
      "text/plain": [
       "<Figure size 800x2000 with 20 Axes>"
      ]
     },
     "metadata": {},
     "output_type": "display_data"
    }
   ],
   "source": [
    "def ma_num(A,v,seed=0.01,agg=0.0):\n",
    "    labels = ModifiedAggregation(A, v, seed=seed, agg=agg)\n",
    "    labels_num = 0\n",
    "    for l in set(labels):\n",
    "        if l == 0:\n",
    "            continue\n",
    "        labels_num += 1\n",
    "    return labels_num\n",
    "\n",
    "trial_num = 6\n",
    "eval_data = torch.load(\"/home/bjartur/workspace/python_focalh_clustering/\" + \"eval_\"+str(trial_num)+\".pt\").detach().numpy()\n",
    "x_data = torch.load(\"/home/bjartur/workspace/python_focalh_clustering/\" + \"x_\"+str(trial_num)+\".pt\").detach().numpy()\n",
    "count_data = torch.load(\"/home/bjartur/workspace/python_focalh_clustering/\" + \"count_\"+str(trial_num)+\".pt\").detach().numpy()\n",
    "idx = 0\n",
    "print(count_data[idx])\n",
    "rows=5\n",
    "fig,ax = plt.subplots(nrows=5, ncols=2, figsize=(8,20))\n",
    "for i in range(rows):\n",
    "    adj = np.load(\"p2_image_adj_21x21.npy\")\n",
    "\n",
    "    plot_tensor(eval_data,i,fig,ax[i][0])\n",
    "    plot_tensor(x_data,i,fig,ax[i][1])\n",
    "    eval_max = eval_data[i][0].max()\n",
    "    x_max = x_data[i].max()\n",
    "    ax[i][0].set_title(\"particles: \"+str(count_data[i])+\" clusters: \"+str(ma_num(adj,eval_data[i][0].flatten(),seed=eval_max*0.5,agg=0.0)))\n",
    "    ax[i][1].set_title(\"particles: \"+str(count_data[i])+\" clusters: \"+str(ma_num(adj,x_data[i].flatten(),seed=0.3437497859708318,agg=0.003847993060723698)))\n",
    "fig.tight_layout()"
   ]
  },
  {
   "cell_type": "code",
   "execution_count": null,
   "id": "e1efaa49-d6b2-4bdb-bc77-cbdc4f608300",
   "metadata": {},
   "outputs": [],
   "source": []
  }
 ],
 "metadata": {
  "kernelspec": {
   "display_name": "Python 3 (ipykernel)",
   "language": "python",
   "name": "python3"
  },
  "language_info": {
   "codemirror_mode": {
    "name": "ipython",
    "version": 3
   },
   "file_extension": ".py",
   "mimetype": "text/x-python",
   "name": "python",
   "nbconvert_exporter": "python",
   "pygments_lexer": "ipython3",
   "version": "3.11.13"
  }
 },
 "nbformat": 4,
 "nbformat_minor": 5
}
