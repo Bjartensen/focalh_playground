{
 "cells": [
  {
   "cell_type": "code",
   "execution_count": 176,
   "id": "33fca551-eea1-4954-b714-2a27fd1bb11e",
   "metadata": {},
   "outputs": [],
   "source": [
    "import numpy as np\n",
    "import numpy.ma as ma\n",
    "import matplotlib.pyplot as plt\n",
    "import ROOT\n",
    "import focal"
   ]
  },
  {
   "cell_type": "code",
   "execution_count": null,
   "id": "b8ebccdf-c916-4be8-9345-e6d4b4f124e4",
   "metadata": {},
   "outputs": [],
   "source": []
  },
  {
   "cell_type": "code",
   "execution_count": null,
   "id": "cf510056-ddba-4d51-b3a9-3d11290eae2d",
   "metadata": {},
   "outputs": [],
   "source": []
  },
  {
   "cell_type": "markdown",
   "id": "5b390f25-3216-4603-acec-f4d261ee6387",
   "metadata": {},
   "source": [
    "# Notebook to map events to the format of the adjacency matrix"
   ]
  },
  {
   "cell_type": "markdown",
   "id": "1f5b7b14-659e-448c-bb47-0237a8418537",
   "metadata": {},
   "source": [
    "And maybe implement parts of Modified Aggregation"
   ]
  },
  {
   "cell_type": "code",
   "execution_count": 24,
   "id": "3183b8d8-c126-4ddf-9b05-fdc92d7b3d46",
   "metadata": {},
   "outputs": [],
   "source": [
    "adj = np.load(\"p2_adj.npy\")\n",
    "idx = np.load(\"p2_cell_idx.npy\")"
   ]
  },
  {
   "cell_type": "markdown",
   "id": "b24f1680-810f-425f-b5fa-effec73b0357",
   "metadata": {},
   "source": [
    "Think about modified aggregation\n",
    "\n",
    "Have adjacency matrix, have cell indices\n",
    "\n",
    "From new event in ttree, sort values to match adjacency\n",
    "\n",
    "Maybe a bespoke heatmap plot for the prototype 2 adjacency matrix for easy test, otherwise just fill in the labels"
   ]
  },
  {
   "cell_type": "markdown",
   "id": "4ba15d63-ca95-41fb-b3cf-5c1e5c40a8bc",
   "metadata": {},
   "source": [
    "Use search(). Loop over ttree coordinates and map indices, EZPZ. Maybe precompute events and store in zipped numpy array.\n",
    "\n",
    "Try looping and mapping over 1000 events, see how slow it is."
   ]
  },
  {
   "cell_type": "code",
   "execution_count": 34,
   "id": "3aa42df1-48d9-44f7-a0e2-ba4dfe11bd16",
   "metadata": {},
   "outputs": [],
   "source": [
    "file = ROOT.TFile(\"/home/bjartur/workspace/focalh_data_transformer/data/converted/E300_P5_N1000.root\", \"READ\")\n",
    "tree = file.Get(\"EventsTree\")\n"
   ]
  },
  {
   "cell_type": "markdown",
   "id": "962886da-e932-46b0-abb3-d0e107a6d021",
   "metadata": {},
   "source": [
    "Create some structure that maps an array of mapped indices to the filename and tree event, so you are always sure."
   ]
  },
  {
   "cell_type": "code",
   "execution_count": 88,
   "id": "ff04989c-6bc8-49ca-b563-3284220527b8",
   "metadata": {},
   "outputs": [],
   "source": [
    "def p2_adj_map(filename):\n",
    "    \"\"\"\n",
    "    Function to basically check and record the mapping for a file.\n",
    "    I think all simulation files will always be the same, but this\n",
    "    checks that all events have the same mapping and returns the mapping\n",
    "    and file name.\n",
    "    \"\"\"\n",
    "    file = ROOT.TFile(filename, \"READ\")\n",
    "    tree = file.Get(\"EventsTree\")\n",
    "    Nevents = tree.GetEntries()\n",
    "    tree.GetEntry(0)\n",
    "    npval = np.array(tree.value, dtype=np.float32)\n",
    "\n",
    "    f = focal.FocalH()\n",
    "    Ncells = len(npval)\n",
    "    iadj = np.zeros(Ncells*Nevents, dtype=np.int32).reshape(Nevents,Ncells)\n",
    "    for k in range(Nevents):\n",
    "        tree.GetEntry(k)\n",
    "        npx = np.array(tree.x, dtype=np.float32)\n",
    "        npy = np.array(tree.y, dtype=np.float32)\n",
    "        npval = np.array(tree.value, dtype=np.float32)\n",
    "        for i in range(len(npval)):\n",
    "            iadj[k,i] = f.search(npx[i],npy[i])\n",
    "        #print(npval[0])\n",
    "\n",
    "    if (iadj == iadj[0]).all():\n",
    "        return iadj[0], filename\n",
    "\n",
    "    print(\"All events don't have the same order of cells!\")\n",
    "    return np.ones(Ncells)*-1, filename\n",
    "\n",
    "iadj = p2_adj_map(\"/home/bjartur/workspace/focalh_data_transformer/data/converted/E300_P5_N1000.root\")"
   ]
  },
  {
   "cell_type": "code",
   "execution_count": 94,
   "id": "885c092f-46f4-47f6-80ad-72419e1022d4",
   "metadata": {},
   "outputs": [],
   "source": [
    "np.save(\"p2_sim_adj_map\", iadj[0])"
   ]
  },
  {
   "cell_type": "code",
   "execution_count": 99,
   "id": "4910ac19-e296-4c87-8764-1d8d52c4f948",
   "metadata": {},
   "outputs": [],
   "source": [
    "iadj = np.load(\"p2_sim_adj_map.npy\")"
   ]
  },
  {
   "cell_type": "code",
   "execution_count": 105,
   "id": "48b7f71c-faab-4edc-967a-dc5f232e102e",
   "metadata": {},
   "outputs": [
    {
     "data": {
      "text/plain": [
       "array([194, 189, 184, 179, 174, 195, 190, 185, 180, 175, 196, 191, 186,\n",
       "       181, 176, 197, 192, 187, 182, 177, 198, 193, 188, 183, 178,  95,\n",
       "        90,  85,  80,  75,  96,  91,  86,  81,  76,  97,  92,  87,  82,\n",
       "        77,  98,  93,  88,  83,  78,  99,  94,  89,  84,  79,  20,  15,\n",
       "        10,   5,   0,  21,  16,  11,   6,   1,  22,  17,  12,   7,   2,\n",
       "        23,  18,  13,   8,   3,  24,  19,  14,   9,   4, 219, 214, 209,\n",
       "       204, 199, 220, 215, 210, 205, 200, 221, 216, 211, 206, 201, 222,\n",
       "       217, 212, 207, 202, 223, 218, 213, 208, 203, 142, 135, 128, 121,\n",
       "       114, 107, 100, 143, 136, 129, 122, 115, 108, 101, 144, 137, 130,\n",
       "       123, 116, 109, 102, 145, 138, 131, 124, 117, 110, 103, 146, 139,\n",
       "       132, 125, 118, 111, 104, 147, 140, 133, 126, 119, 112, 105, 148,\n",
       "       141, 134, 127, 120, 113, 106,  45,  40,  35,  30,  25,  46,  41,\n",
       "        36,  31,  26,  47,  42,  37,  32,  27,  48,  43,  38,  33,  28,\n",
       "        49,  44,  39,  34,  29, 244, 239, 234, 229, 224, 245, 240, 235,\n",
       "       230, 225, 246, 241, 236, 231, 226, 247, 242, 237, 232, 227, 248,\n",
       "       243, 238, 233, 228, 169, 164, 159, 154, 149, 170, 165, 160, 155,\n",
       "       150, 171, 166, 161, 156, 151, 172, 167, 162, 157, 152, 173, 168,\n",
       "       163, 158, 153,  70,  65,  60,  55,  50,  71,  66,  61,  56,  51,\n",
       "        72,  67,  62,  57,  52,  73,  68,  63,  58,  53,  74,  69,  64,\n",
       "        59,  54], dtype=int32)"
      ]
     },
     "execution_count": 105,
     "metadata": {},
     "output_type": "execute_result"
    }
   ],
   "source": [
    "iadj"
   ]
  },
  {
   "cell_type": "markdown",
   "id": "1e01e3f5-8bfd-4c48-bff2-81db5cd3e54a",
   "metadata": {},
   "source": [
    "From a ttree I can now translate the indices to the p2 indices.\n",
    "\n",
    "That means I can conceivably implement the modified aggregation in python.\n",
    "\n",
    "I should make a toy example first and implement it there.\n",
    "\n",
    "I should have a way of visualizing if the mapping and later clustering works.\n",
    "\n",
    "First just make a toy example and implement the MA."
   ]
  },
  {
   "cell_type": "markdown",
   "id": "afc1d330-3189-429a-9f53-15111efb6d94",
   "metadata": {},
   "source": [
    "# Toy example"
   ]
  },
  {
   "cell_type": "code",
   "execution_count": 486,
   "id": "b3972d1f-7070-4ea9-97d6-6d2e6e40d1b0",
   "metadata": {},
   "outputs": [
    {
     "data": {
      "text/plain": [
       "array([[1, 1, 0, 1, 1, 0, 0, 0, 0],\n",
       "       [1, 1, 1, 1, 1, 1, 0, 0, 0],\n",
       "       [0, 1, 1, 0, 1, 1, 0, 0, 0],\n",
       "       [1, 1, 0, 1, 1, 0, 1, 1, 0],\n",
       "       [1, 1, 1, 1, 1, 1, 1, 1, 1],\n",
       "       [0, 1, 1, 0, 1, 1, 0, 1, 1],\n",
       "       [0, 0, 0, 1, 1, 0, 1, 1, 0],\n",
       "       [0, 0, 0, 1, 1, 1, 1, 1, 1],\n",
       "       [0, 0, 0, 0, 1, 1, 0, 1, 1]])"
      ]
     },
     "execution_count": 486,
     "metadata": {},
     "output_type": "execute_result"
    }
   ],
   "source": [
    "toy_cells = np.array([0,1,2,3,4,5,6,7,8])\n",
    "toy_cells2 = np.array([0,1,2,3,4,5,6,7,8,9,10,11])\n",
    "\n",
    "\n",
    "toy_ex = np.array([\n",
    "[0,1,2],\n",
    "[3,4,5],\n",
    "[6,7,8]\n",
    "])\n",
    "\n",
    "toy_vals = np.array([\n",
    "[5,1,1],\n",
    "[1,1,1],\n",
    "[1,1,1]\n",
    "])\n",
    "\n",
    "toy_vals2 = np.array([\n",
    "[5,4,3],\n",
    "[4,4,3],\n",
    "[3,3,3],\n",
    "[2,2,6]\n",
    "])\n",
    "\n",
    "\n",
    "\n",
    "toy_adj = np.array([\n",
    "#0  1  2  3  4  5  6  7  8\n",
    "[1, 1, 0, 1, 1, 0, 0, 0, 0],\n",
    "[1, 1, 1, 1, 1, 1, 0, 0, 0],\n",
    "[0, 1, 1, 0, 1, 1, 0, 0, 0],\n",
    "[1, 1, 0, 1, 1, 0, 1, 1, 0],\n",
    "[1, 1, 1, 1, 1, 1, 1, 1, 1],\n",
    "[0, 1, 1, 0, 1, 1, 0, 1, 1],\n",
    "[0, 0, 0, 1, 1, 0, 1, 1, 0],\n",
    "[0, 0, 0, 1, 1, 1, 1, 1, 1],\n",
    "[0, 0, 0, 0, 1, 1, 0, 1, 1],\n",
    "])\n",
    "\n",
    "toy_adj2 = np.array([\n",
    "#0  1  2  3  4  5  6  7  8  9  10 11\n",
    "[1, 1, 0, 1, 1, 0, 0, 0, 0, 0, 0, 0],\n",
    "[1, 1, 1, 1, 1, 1, 0, 0, 0, 0, 0, 0],\n",
    "[0, 1, 1, 0, 1, 1, 0, 0, 0, 0, 0, 0],\n",
    "[1, 1, 0, 1, 1, 0, 1, 1, 0, 0, 0, 0],\n",
    "[1, 1, 1, 1, 1, 1, 1, 1, 1, 0, 0, 0],\n",
    "[0, 1, 1, 0, 1, 1, 0, 1, 1, 0, 0, 0],\n",
    "[0, 0, 0, 1, 1, 0, 1, 1, 0, 1, 1, 0],\n",
    "[0, 0, 0, 1, 1, 1, 1, 1, 1, 1, 1, 1],\n",
    "[0, 0, 0, 0, 1, 1, 0, 1, 1, 0, 1, 1],\n",
    "\n",
    "[0, 0, 0, 0, 0, 0, 1, 1, 0, 1, 1, 0],\n",
    "[0, 0, 0, 0, 0, 0, 1, 1, 1, 1, 1, 1],\n",
    "[0, 0, 0, 0, 0, 0, 0, 1, 1, 0, 1, 1],\n",
    "])\n",
    "\n",
    "\n",
    "toy_adj"
   ]
  },
  {
   "cell_type": "code",
   "execution_count": 472,
   "id": "54b9e32e-abd1-4ec9-82a0-8783b029954a",
   "metadata": {},
   "outputs": [
    {
     "data": {
      "text/plain": [
       "np.True_"
      ]
     },
     "execution_count": 472,
     "metadata": {},
     "output_type": "execute_result"
    }
   ],
   "source": [
    "(toy_adj2 == toy_adj2.T).all()"
   ]
  },
  {
   "cell_type": "code",
   "execution_count": 473,
   "id": "5b04f844-8693-406f-9b2e-4ab268273eb0",
   "metadata": {},
   "outputs": [
    {
     "data": {
      "text/plain": [
       "array([5, 1, 1, 1, 1, 1, 1, 1, 1])"
      ]
     },
     "execution_count": 473,
     "metadata": {},
     "output_type": "execute_result"
    }
   ],
   "source": [
    "toy_vals.flatten()"
   ]
  },
  {
   "cell_type": "code",
   "execution_count": 630,
   "id": "f1e185a8-8f9b-4816-8c3c-471a21fcfd08",
   "metadata": {},
   "outputs": [],
   "source": [
    "def ModifiedAggregation(A, v, seed=4, agg=0):\n",
    "    \"\"\"\n",
    "    Modified Aggregation from an adjacency matrix and a list of values\n",
    "    corresponding to the same ordering as the adjacency matrix.\n",
    "    \"\"\"\n",
    "\n",
    "    if seed < agg:\n",
    "        print(\"Seed threshold can't be smaller than aggregation threshold\")\n",
    "        return\n",
    "    \n",
    "    labels = np.zeros_like(v, dtype=np.int32)\n",
    "    count = 0\n",
    "    tag_it = 1\n",
    "    while(count < 1E6):\n",
    "        seed_mask = v < seed\n",
    "        limit_mask = labels != 0\n",
    "        masked_data = ma.masked_array(v, mask = seed_mask | limit_mask)\n",
    "        \n",
    "        if np.all(masked_data.mask):  # Check if all elements are masked\n",
    "            break\n",
    "        max_index = masked_data.argmax()\n",
    "        seed_mask[max_index] = True\n",
    "        spread(A,v,max_index,labels,tag_it,agg)\n",
    "        tag_it += 1\n",
    "        count += 1\n",
    "\n",
    "    return labels\n",
    "\n",
    "def spread(A,v,seed,labels,tag,agg):\n",
    "    \"\"\"\n",
    "    Spread\n",
    "    \"\"\"\n",
    "    spread_mask = A[seed] == 1\n",
    "    spread_mask = np.zeros_like(labels).astype(bool)\n",
    "    spread_mask[seed] = True\n",
    "    \n",
    "    # later make into while\n",
    "    labels_temp = np.ones_like(labels)*-1\n",
    "    count = 0\n",
    "    while(count < 1E6):\n",
    "        limit_mask = labels == 0\n",
    "\n",
    "        if (labels_temp==labels).all():\n",
    "            break        \n",
    "        labels_temp = labels.copy()\n",
    "        \n",
    "        spread_to_idx = np.where(spread_mask)[0]\n",
    "        for icell in spread_to_idx:\n",
    "            propagate(A,v,icell,spread_mask,labels,tag,agg)\n",
    "\n",
    "\n",
    "def propagate(A,v,cell,spread_mask,labels,tag,agg):\n",
    "    \"\"\"\n",
    "    Spread to neighbors and check value and agg threshold.\n",
    "    Check A for neighbors, make a mask for already tagged.\n",
    "    \"\"\"\n",
    "\n",
    "    limit_mask = labels == 0\n",
    "    value_mask = v <= v[cell]\n",
    "    agg_mask = v > agg\n",
    "    mask = A[cell]\n",
    "    final_mask = np.bitwise_and(mask, limit_mask & value_mask & agg_mask).astype(bool)\n",
    "\n",
    "    # Tag\n",
    "    labels[final_mask] = tag\n",
    "\n",
    "    # Update spreading cells\n",
    "    # This might not be efficient.\n",
    "    spread_mask[final_mask] = True\n"
   ]
  },
  {
   "cell_type": "code",
   "execution_count": 631,
   "id": "d620dd41-9918-4c62-ab86-9ed0fa0e9fe1",
   "metadata": {},
   "outputs": [
    {
     "data": {
      "text/plain": [
       "Text(0.5, 1.0, 'Clusters')"
      ]
     },
     "execution_count": 631,
     "metadata": {},
     "output_type": "execute_result"
    },
    {
     "data": {
      "image/png": "[encoded data removed]",
      "text/plain": [
       "<Figure size 800x600 with 2 Axes>"
      ]
     },
     "metadata": {},
     "output_type": "display_data"
    }
   ],
   "source": [
    "clusters = ModifiedAggregation(toy_adj2, toy_vals2.flatten(), seed=3, agg=2)\n",
    "fig, ax = plt.subplots(nrows=1, ncols=2, figsize=(8,6))\n",
    "ax[0].imshow(toy_vals2)\n",
    "ax[0].set_title(\"Data\")\n",
    "ax[1].imshow(clusters.reshape(4,3))\n",
    "ax[1].set_title(\"Clusters\")"
   ]
  },
  {
   "cell_type": "markdown",
   "id": "9ed77df5-45ed-4ccd-81fc-c1896dede89c",
   "metadata": {},
   "source": [
    "# Test with real data????????????"
   ]
  },
  {
   "cell_type": "code",
   "execution_count": 633,
   "id": "5237fc31-1e44-4f0e-885a-3a2194759bf1",
   "metadata": {},
   "outputs": [],
   "source": [
    "adj = np.load(\"p2_adj.npy\")\n",
    "idx = np.load(\"p2_cell_idx.npy\")\n",
    "iadj = np.load(\"p2_sim_adj_map.npy\")\n",
    "file = ROOT.TFile(\"/home/bjartur/workspace/focalh_data_transformer/data/converted/E150_P1_N1000.root\", \"READ\")\n",
    "tree = file.Get(\"EventsTree\")"
   ]
  },
  {
   "cell_type": "code",
   "execution_count": 634,
   "id": "2243bb8f-2aac-4658-9e64-07d9c4b66077",
   "metadata": {},
   "outputs": [],
   "source": [
    "tree.GetEntry(250)\n",
    "vals = np.array(tree.value, dtype=np.float32).clip(max=4096)\n",
    "x = np.array(tree.x, dtype=np.float32)\n",
    "y = np.array(tree.y, dtype=np.float32)"
   ]
  },
  {
   "cell_type": "code",
   "execution_count": 635,
   "id": "b7602d9f-f9e8-4455-8335-e34806298336",
   "metadata": {},
   "outputs": [],
   "source": [
    "for i in range(1000):\n",
    "    clusters = ModifiedAggregation(adj, vals[iadj], seed=800, agg=0)"
   ]
  },
  {
   "cell_type": "code",
   "execution_count": 636,
   "id": "9f393ffd-94f6-492e-b7db-464b4f1458b4",
   "metadata": {},
   "outputs": [
    {
     "data": {
      "text/plain": [
       "<matplotlib.collections.PathCollection at 0x7599845a74a0>"
      ]
     },
     "execution_count": 636,
     "metadata": {},
     "output_type": "execute_result"
    },
    {
     "data": {
      "image/png": "[encoded data removed]",
      "text/plain": [
       "<Figure size 640x480 with 1 Axes>"
      ]
     },
     "metadata": {},
     "output_type": "display_data"
    }
   ],
   "source": [
    "plt.scatter(x,y,s=vals/10)"
   ]
  },
  {
   "cell_type": "code",
   "execution_count": 637,
   "id": "8a3bca34-05cb-4df8-bf6a-6a17c73d1a8b",
   "metadata": {},
   "outputs": [
    {
     "data": {
      "text/plain": [
       "<matplotlib.legend.Legend at 0x7599843d16a0>"
      ]
     },
     "execution_count": 637,
     "metadata": {},
     "output_type": "execute_result"
    },
    {
     "data": {
      "image/png": "[encoded data removed]",
      "text/plain": [
       "<Figure size 640x480 with 1 Axes>"
      ]
     },
     "metadata": {},
     "output_type": "display_data"
    }
   ],
   "source": [
    "for c in set(clusters):\n",
    "    if c == 0:\n",
    "        continue\n",
    "    cl = clusters == c\n",
    "    plt.scatter(x[iadj][cl],y[iadj][cl],label=\"Cluster \"+str(c), s=vals[iadj][cl]/50)\n",
    "\n",
    "plt.legend()"
   ]
  },
  {
   "cell_type": "code",
   "execution_count": null,
   "id": "6f275558-2610-465e-9618-2a6517b27a70",
   "metadata": {},
   "outputs": [],
   "source": []
  }
 ],
 "metadata": {
  "kernelspec": {
   "display_name": "Python 3 (ipykernel)",
   "language": "python",
   "name": "python3"
  },
  "language_info": {
   "codemirror_mode": {
    "name": "ipython",
    "version": 3
   },
   "file_extension": ".py",
   "mimetype": "text/x-python",
   "name": "python",
   "nbconvert_exporter": "python",
   "pygments_lexer": "ipython3",
   "version": "3.12.8"
  }
 },
 "nbformat": 4,
 "nbformat_minor": 5
}
